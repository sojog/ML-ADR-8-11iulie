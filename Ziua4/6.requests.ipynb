{
 "cells": [
  {
   "cell_type": "markdown",
   "id": "8ce783b5",
   "metadata": {},
   "source": [
    "# pip install requests"
   ]
  },
  {
   "cell_type": "code",
   "execution_count": 4,
   "id": "8caa6d98",
   "metadata": {},
   "outputs": [],
   "source": [
    "import requests"
   ]
  },
  {
   "cell_type": "code",
   "execution_count": 5,
   "id": "130a980d",
   "metadata": {},
   "outputs": [],
   "source": [
    "URL = \"https://www.timesnewroman.ro/\""
   ]
  },
  {
   "cell_type": "code",
   "execution_count": null,
   "id": "3ef40fae",
   "metadata": {},
   "outputs": [
    {
     "data": {
      "text/plain": [
       "bytes"
      ]
     },
     "execution_count": 7,
     "metadata": {},
     "output_type": "execute_result"
    }
   ],
   "source": [
    "response = requests.get(URL)\n",
    "type(response.content), "
   ]
  },
  {
   "cell_type": "code",
   "execution_count": 9,
   "id": "2b5cf4bb",
   "metadata": {},
   "outputs": [
    {
     "data": {
      "text/plain": [
       "str"
      ]
     },
     "execution_count": 9,
     "metadata": {},
     "output_type": "execute_result"
    }
   ],
   "source": [
    "response.text,\n",
    "type(response.text)"
   ]
  },
  {
   "cell_type": "code",
   "execution_count": 10,
   "id": "a2784d49",
   "metadata": {},
   "outputs": [],
   "source": [
    "with open(\"response.text.html\", \"w\") as fwriter:\n",
    "    fwriter.write(response.text)\n",
    "\n",
    "\n",
    "with open(\"response.content.html\", \"wb\") as fwriter:\n",
    "    fwriter.write(response.content)"
   ]
  },
  {
   "cell_type": "code",
   "execution_count": null,
   "id": "55a001cf",
   "metadata": {},
   "outputs": [],
   "source": []
  }
 ],
 "metadata": {
  "kernelspec": {
   "display_name": "Python 3",
   "language": "python",
   "name": "python3"
  },
  "language_info": {
   "codemirror_mode": {
    "name": "ipython",
    "version": 3
   },
   "file_extension": ".py",
   "mimetype": "text/x-python",
   "name": "python",
   "nbconvert_exporter": "python",
   "pygments_lexer": "ipython3",
   "version": "3.13.3"
  }
 },
 "nbformat": 4,
 "nbformat_minor": 5
}
