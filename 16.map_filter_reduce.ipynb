{
 "cells": [
  {
   "cell_type": "code",
   "execution_count": 4,
   "id": "e1c9a07d",
   "metadata": {},
   "outputs": [
    {
     "data": {
      "text/plain": [
       "[5.0, 10.0, 1.5, 20.0]"
      ]
     },
     "execution_count": 4,
     "metadata": {},
     "output_type": "execute_result"
    }
   ],
   "source": [
    "lista = [10, 20, 3, 40]\n",
    "\n",
    "\n",
    "noua_lista = []\n",
    "for i in lista:\n",
    "    noua_lista.append(i / 2)\n",
    "\n",
    "\n",
    "noua_lista"
   ]
  },
  {
   "cell_type": "code",
   "execution_count": 5,
   "id": "bb9fd6bd",
   "metadata": {},
   "outputs": [
    {
     "data": {
      "text/plain": [
       "<map at 0x107374fa0>"
      ]
     },
     "execution_count": 5,
     "metadata": {},
     "output_type": "execute_result"
    }
   ],
   "source": [
    "lista = [10, 20, 3, 40]\n",
    "\n",
    "def imparte_la_2(x):\n",
    "    return x / 2\n",
    "\n",
    "noua_lista = map(imparte_la_2, lista)\n",
    "noua_lista\n",
    "\n",
    "\n"
   ]
  },
  {
   "cell_type": "code",
   "execution_count": 6,
   "id": "3961543f",
   "metadata": {},
   "outputs": [
    {
     "data": {
      "text/plain": [
       "[5.0, 10.0, 1.5, 20.0]"
      ]
     },
     "execution_count": 6,
     "metadata": {},
     "output_type": "execute_result"
    }
   ],
   "source": [
    "lista = [10, 20, 3, 40]\n",
    "\n",
    "def imparte_la_2(x):\n",
    "    return x / 2\n",
    "\n",
    "noua_lista = list(map(imparte_la_2, lista))\n",
    "noua_lista"
   ]
  },
  {
   "cell_type": "code",
   "execution_count": 7,
   "id": "e7334b13",
   "metadata": {},
   "outputs": [
    {
     "data": {
      "text/plain": [
       "[5.0, 10.0, 1.5, 20.0]"
      ]
     },
     "execution_count": 7,
     "metadata": {},
     "output_type": "execute_result"
    }
   ],
   "source": [
    "lista = [10, 20, 3, 40]\n",
    "\n",
    "\n",
    "noua_lista = list(map(lambda x: x/2, lista))\n",
    "noua_lista"
   ]
  },
  {
   "cell_type": "markdown",
   "id": "f2ac0146",
   "metadata": {},
   "source": [
    "# List comprehention"
   ]
  },
  {
   "cell_type": "code",
   "execution_count": 9,
   "id": "1758bb0a",
   "metadata": {},
   "outputs": [
    {
     "data": {
      "text/plain": [
       "[5.0, 10.0, 1.5, 20.0]"
      ]
     },
     "execution_count": 9,
     "metadata": {},
     "output_type": "execute_result"
    }
   ],
   "source": [
    "lista = [10, 20, 3, 40]\n",
    "noua_lista = [ i / 2 for i in lista ]\n",
    "noua_lista"
   ]
  },
  {
   "cell_type": "code",
   "execution_count": 8,
   "id": "307e9ddc",
   "metadata": {},
   "outputs": [
    {
     "data": {
      "text/plain": [
       "[5.0, 10.0, 1.5, 20.0]"
      ]
     },
     "execution_count": 8,
     "metadata": {},
     "output_type": "execute_result"
    }
   ],
   "source": [
    "lista = [10, 20, 3, 40]\n",
    "\n",
    "\n",
    "noua_lista = []\n",
    "for i in lista:\n",
    "    noua_lista.append(i / 2)\n",
    "\n",
    "\n",
    "noua_lista\n",
    "\n"
   ]
  },
  {
   "cell_type": "code",
   "execution_count": 11,
   "id": "3fc8f94d",
   "metadata": {},
   "outputs": [
    {
     "data": {
      "text/plain": [
       "[20, 40]"
      ]
     },
     "execution_count": 11,
     "metadata": {},
     "output_type": "execute_result"
    }
   ],
   "source": [
    "lista = [10, 20, 3, 40]\n",
    "\n",
    "list(filter(lambda x:x>11, lista))\n"
   ]
  },
  {
   "cell_type": "markdown",
   "id": "7bc3fcd1",
   "metadata": {},
   "source": [
    "# List comprehention"
   ]
  },
  {
   "cell_type": "code",
   "execution_count": 13,
   "id": "ef323e42",
   "metadata": {},
   "outputs": [
    {
     "data": {
      "text/plain": [
       "[20, 40]"
      ]
     },
     "execution_count": 13,
     "metadata": {},
     "output_type": "execute_result"
    }
   ],
   "source": [
    "lista = [10, 20, 3, 40]\n",
    "\n",
    "numere_peste_11 =  [ i for i in lista if i > 11]\n",
    "numere_peste_11"
   ]
  },
  {
   "cell_type": "code",
   "execution_count": 15,
   "id": "431a7b13",
   "metadata": {},
   "outputs": [
    {
     "data": {
      "text/plain": [
       "{'perioada': 100}"
      ]
     },
     "execution_count": 15,
     "metadata": {},
     "output_type": "execute_result"
    }
   ],
   "source": [
    "d = {\"temperaturi\":30, \"perioada\":100}\n",
    "\n",
    "nou_d  = {}\n",
    "for i in d:\n",
    "    if d[i] > 30:\n",
    "        nou_d[i] = d[i]\n",
    "nou_d"
   ]
  },
  {
   "cell_type": "markdown",
   "id": "7532dde9",
   "metadata": {},
   "source": [
    "# Dict comprehention"
   ]
  },
  {
   "cell_type": "code",
   "execution_count": 16,
   "id": "b9fcf424",
   "metadata": {},
   "outputs": [
    {
     "data": {
      "text/plain": [
       "{'perioada': 100}"
      ]
     },
     "execution_count": 16,
     "metadata": {},
     "output_type": "execute_result"
    }
   ],
   "source": [
    "d = {\"temperaturi\":30, \"perioada\":100}\n",
    "\n",
    "nou_d  = { i:nou_d[i] for i in d if d[i] > 30}\n",
    "nou_d"
   ]
  },
  {
   "cell_type": "code",
   "execution_count": null,
   "id": "fe6c0a4e",
   "metadata": {},
   "outputs": [],
   "source": []
  }
 ],
 "metadata": {
  "kernelspec": {
   "display_name": "Python 3",
   "language": "python",
   "name": "python3"
  },
  "language_info": {
   "codemirror_mode": {
    "name": "ipython",
    "version": 3
   },
   "file_extension": ".py",
   "mimetype": "text/x-python",
   "name": "python",
   "nbconvert_exporter": "python",
   "pygments_lexer": "ipython3",
   "version": "3.13.3"
  }
 },
 "nbformat": 4,
 "nbformat_minor": 5
}
