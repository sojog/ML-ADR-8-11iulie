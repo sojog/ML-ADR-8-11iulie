{
 "cells": [
  {
   "cell_type": "code",
   "execution_count": 1,
   "id": "2336584c",
   "metadata": {},
   "outputs": [],
   "source": [
    "dictionar = {\n",
    "    \"cheie\":\"valoare\"\n",
    "}"
   ]
  },
  {
   "cell_type": "code",
   "execution_count": 3,
   "id": "89b1842f",
   "metadata": {},
   "outputs": [
    {
     "data": {
      "text/plain": [
       "(1, dict)"
      ]
     },
     "execution_count": 3,
     "metadata": {},
     "output_type": "execute_result"
    }
   ],
   "source": [
    "len(dictionar), type(dictionar)"
   ]
  },
  {
   "cell_type": "code",
   "execution_count": 4,
   "id": "63e26870",
   "metadata": {},
   "outputs": [
    {
     "data": {
      "text/plain": [
       "'valoare'"
      ]
     },
     "execution_count": 4,
     "metadata": {},
     "output_type": "execute_result"
    }
   ],
   "source": [
    "dictionar[\"cheie\"]"
   ]
  },
  {
   "cell_type": "code",
   "execution_count": 5,
   "id": "ebcaf54f",
   "metadata": {},
   "outputs": [
    {
     "ename": "KeyError",
     "evalue": "'valoare'",
     "output_type": "error",
     "traceback": [
      "\u001b[31m---------------------------------------------------------------------------\u001b[39m",
      "\u001b[31mKeyError\u001b[39m                                  Traceback (most recent call last)",
      "\u001b[36mCell\u001b[39m\u001b[36m \u001b[39m\u001b[32mIn[5]\u001b[39m\u001b[32m, line 1\u001b[39m\n\u001b[32m----> \u001b[39m\u001b[32m1\u001b[39m \u001b[43mdictionar\u001b[49m\u001b[43m[\u001b[49m\u001b[33;43m\"\u001b[39;49m\u001b[33;43mvaloare\u001b[39;49m\u001b[33;43m\"\u001b[39;49m\u001b[43m]\u001b[49m\n",
      "\u001b[31mKeyError\u001b[39m: 'valoare'"
     ]
    }
   ],
   "source": [
    "dictionar[\"valoare\"]"
   ]
  },
  {
   "cell_type": "code",
   "execution_count": 6,
   "id": "ee7ed682",
   "metadata": {},
   "outputs": [],
   "source": [
    "dictionar = { \"culoare\":\"verde\", True:\"lumina\"}"
   ]
  },
  {
   "cell_type": "code",
   "execution_count": 7,
   "id": "735eda57",
   "metadata": {},
   "outputs": [
    {
     "data": {
      "text/plain": [
       "'lumina'"
      ]
     },
     "execution_count": 7,
     "metadata": {},
     "output_type": "execute_result"
    }
   ],
   "source": [
    "dictionar[True]"
   ]
  },
  {
   "cell_type": "code",
   "execution_count": 8,
   "id": "115577d3",
   "metadata": {},
   "outputs": [],
   "source": [
    "dictionar = { \"culoare\":\"verde\", True:\"lumina\", (\"10\", \"20\"):\"temperaturi\"}"
   ]
  },
  {
   "cell_type": "code",
   "execution_count": 9,
   "id": "e1cddf5a",
   "metadata": {},
   "outputs": [
    {
     "data": {
      "text/plain": [
       "'temperaturi'"
      ]
     },
     "execution_count": 9,
     "metadata": {},
     "output_type": "execute_result"
    }
   ],
   "source": [
    "dictionar[(\"10\", \"20\")]"
   ]
  },
  {
   "cell_type": "markdown",
   "id": "7f2e3a68",
   "metadata": {},
   "source": [
    "# Cheie trebuie sa fie imutabile"
   ]
  },
  {
   "cell_type": "code",
   "execution_count": 10,
   "id": "fc5ed316",
   "metadata": {},
   "outputs": [
    {
     "ename": "TypeError",
     "evalue": "unhashable type: 'list'",
     "output_type": "error",
     "traceback": [
      "\u001b[31m---------------------------------------------------------------------------\u001b[39m",
      "\u001b[31mTypeError\u001b[39m                                 Traceback (most recent call last)",
      "\u001b[36mCell\u001b[39m\u001b[36m \u001b[39m\u001b[32mIn[10]\u001b[39m\u001b[32m, line 1\u001b[39m\n\u001b[32m----> \u001b[39m\u001b[32m1\u001b[39m dictionar = { \u001b[33m\"\u001b[39m\u001b[33mculoare\u001b[39m\u001b[33m\"\u001b[39m:\u001b[33m\"\u001b[39m\u001b[33mverde\u001b[39m\u001b[33m\"\u001b[39m, \u001b[38;5;28;01mTrue\u001b[39;00m:\u001b[33m\"\u001b[39m\u001b[33mlumina\u001b[39m\u001b[33m\"\u001b[39m, [\u001b[33m\"\u001b[39m\u001b[33m10\u001b[39m\u001b[33m\"\u001b[39m, \u001b[33m\"\u001b[39m\u001b[33m20\u001b[39m\u001b[33m\"\u001b[39m]:\u001b[33m\"\u001b[39m\u001b[33mtemperaturi\u001b[39m\u001b[33m\"\u001b[39m}\n",
      "\u001b[31mTypeError\u001b[39m: unhashable type: 'list'"
     ]
    }
   ],
   "source": [
    "dictionar = { \"culoare\":\"verde\", True:\"lumina\", [\"10\", \"20\"]:\"temperaturi\"}"
   ]
  },
  {
   "cell_type": "code",
   "execution_count": 11,
   "id": "3e8264ca",
   "metadata": {},
   "outputs": [
    {
     "data": {
      "text/plain": [
       "100"
      ]
     },
     "execution_count": 11,
     "metadata": {},
     "output_type": "execute_result"
    }
   ],
   "source": [
    "dictionar = {0:100, 1:300}\n",
    "dictionar[0] "
   ]
  },
  {
   "cell_type": "code",
   "execution_count": 12,
   "id": "d78dd806",
   "metadata": {},
   "outputs": [],
   "source": [
    "x = {0:100, 1:300}\n"
   ]
  },
  {
   "cell_type": "code",
   "execution_count": 15,
   "id": "b7ac31d8",
   "metadata": {},
   "outputs": [
    {
     "data": {
      "text/plain": [
       "100"
      ]
     },
     "execution_count": 15,
     "metadata": {},
     "output_type": "execute_result"
    }
   ],
   "source": [
    "x[0] "
   ]
  },
  {
   "cell_type": "code",
   "execution_count": 16,
   "id": "c71117ff",
   "metadata": {},
   "outputs": [],
   "source": [
    "dictionar = {\n",
    "    \"culoare\":\"rosie\", \"marime\":\"M\", \n",
    "}"
   ]
  },
  {
   "cell_type": "code",
   "execution_count": 17,
   "id": "32dfbf1a",
   "metadata": {},
   "outputs": [
    {
     "name": "stdout",
     "output_type": "stream",
     "text": [
      "culoare\n",
      "marime\n"
     ]
    }
   ],
   "source": [
    "for i in dictionar:\n",
    "    print(i)"
   ]
  },
  {
   "cell_type": "code",
   "execution_count": 18,
   "id": "e2aaeb60",
   "metadata": {},
   "outputs": [
    {
     "name": "stdout",
     "output_type": "stream",
     "text": [
      "culoare rosie\n",
      "marime M\n"
     ]
    }
   ],
   "source": [
    "for i in dictionar:\n",
    "    print(i, dictionar[i])"
   ]
  },
  {
   "cell_type": "code",
   "execution_count": 19,
   "id": "122ad5bf",
   "metadata": {},
   "outputs": [
    {
     "name": "stdout",
     "output_type": "stream",
     "text": [
      "('culoare', 'rosie')\n",
      "('marime', 'M')\n"
     ]
    }
   ],
   "source": [
    "for item in dictionar.items():\n",
    "    print(item)"
   ]
  },
  {
   "cell_type": "code",
   "execution_count": 20,
   "id": "e9d2fad6",
   "metadata": {},
   "outputs": [
    {
     "name": "stdout",
     "output_type": "stream",
     "text": [
      "culoare rosie\n",
      "marime M\n"
     ]
    }
   ],
   "source": [
    "for cheie, valoare in dictionar.items():\n",
    "    print(cheie, valoare)"
   ]
  }
 ],
 "metadata": {
  "kernelspec": {
   "display_name": "Python 3",
   "language": "python",
   "name": "python3"
  },
  "language_info": {
   "codemirror_mode": {
    "name": "ipython",
    "version": 3
   },
   "file_extension": ".py",
   "mimetype": "text/x-python",
   "name": "python",
   "nbconvert_exporter": "python",
   "pygments_lexer": "ipython3",
   "version": "3.13.3"
  }
 },
 "nbformat": 4,
 "nbformat_minor": 5
}
