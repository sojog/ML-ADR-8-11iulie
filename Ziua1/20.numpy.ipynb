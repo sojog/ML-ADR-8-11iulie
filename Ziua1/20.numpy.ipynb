{
 "cells": [
  {
   "cell_type": "code",
   "execution_count": 1,
   "id": "ca0a3d75",
   "metadata": {},
   "outputs": [],
   "source": [
    "import numpy as np"
   ]
  },
  {
   "cell_type": "code",
   "execution_count": 3,
   "id": "5eece88c",
   "metadata": {},
   "outputs": [
    {
     "name": "stdout",
     "output_type": "stream",
     "text": [
      "[ 10.     20.     30.    300.441] <class 'numpy.ndarray'> float64\n"
     ]
    }
   ],
   "source": [
    "colectie = [10, 20, 30, 300.441]\n",
    "arr = np.array(colectie)\n",
    "print(arr, type(arr), arr.dtype)"
   ]
  },
  {
   "cell_type": "code",
   "execution_count": 4,
   "id": "533354b1",
   "metadata": {},
   "outputs": [
    {
     "name": "stdout",
     "output_type": "stream",
     "text": [
      "['10' '20' '30' '300.441' 'hello'] <class 'numpy.ndarray'> <U32\n"
     ]
    }
   ],
   "source": [
    "colectie = [10, 20, 30, 300.441, \"hello\"]\n",
    "arr = np.array(colectie)\n",
    "print(arr, type(arr), arr.dtype)"
   ]
  },
  {
   "cell_type": "code",
   "execution_count": 5,
   "id": "e40718b8",
   "metadata": {},
   "outputs": [
    {
     "ename": "ValueError",
     "evalue": "setting an array element with a sequence. The requested array has an inhomogeneous shape after 1 dimensions. The detected shape was (6,) + inhomogeneous part.",
     "output_type": "error",
     "traceback": [
      "\u001b[31m---------------------------------------------------------------------------\u001b[39m",
      "\u001b[31mValueError\u001b[39m                                Traceback (most recent call last)",
      "\u001b[36mCell\u001b[39m\u001b[36m \u001b[39m\u001b[32mIn[5]\u001b[39m\u001b[32m, line 2\u001b[39m\n\u001b[32m      1\u001b[39m colectie = [\u001b[32m10\u001b[39m, \u001b[32m20\u001b[39m, \u001b[32m30\u001b[39m, \u001b[32m300.441\u001b[39m, \u001b[33m\"\u001b[39m\u001b[33mhello\u001b[39m\u001b[33m\"\u001b[39m, [\u001b[33m\"\u001b[39m\u001b[33mhello\u001b[39m\u001b[33m\"\u001b[39m, \u001b[33m\"\u001b[39m\u001b[33mhello\u001b[39m\u001b[33m\"\u001b[39m]]\n\u001b[32m----> \u001b[39m\u001b[32m2\u001b[39m arr = \u001b[43mnp\u001b[49m\u001b[43m.\u001b[49m\u001b[43marray\u001b[49m\u001b[43m(\u001b[49m\u001b[43mcolectie\u001b[49m\u001b[43m)\u001b[49m\n\u001b[32m      3\u001b[39m \u001b[38;5;28mprint\u001b[39m(arr, \u001b[38;5;28mtype\u001b[39m(arr), arr.dtype)\n",
      "\u001b[31mValueError\u001b[39m: setting an array element with a sequence. The requested array has an inhomogeneous shape after 1 dimensions. The detected shape was (6,) + inhomogeneous part."
     ]
    }
   ],
   "source": [
    "colectie = [10, 20, 30, 300.441, \"hello\", [\"hello\", \"hello\"]]\n",
    "arr = np.array(colectie)\n",
    "print(arr, type(arr), arr.dtype)"
   ]
  },
  {
   "cell_type": "code",
   "execution_count": 7,
   "id": "8158802b",
   "metadata": {},
   "outputs": [
    {
     "name": "stdout",
     "output_type": "stream",
     "text": [
      "[['hello' '30' '30' 'hello']\n",
      " ['10' '20' '300.441' 'hello']] <class 'numpy.ndarray'> <U32\n"
     ]
    }
   ],
   "source": [
    "colectie = [[\"hello\", 30, 30,  \"hello\"], [10, 20, 300.441, \"hello\", ]]\n",
    "arr = np.array(colectie)\n",
    "print(arr, type(arr), arr.dtype)"
   ]
  },
  {
   "cell_type": "code",
   "execution_count": 10,
   "id": "68aeccc4",
   "metadata": {},
   "outputs": [
    {
     "name": "stdout",
     "output_type": "stream",
     "text": [
      "[['hello' '30' '30' 'hello']\n",
      " ['10' '20' '300.441' 'hello']] <class 'numpy.ndarray'> <U32\n",
      "Shape: (2, 4)\n"
     ]
    }
   ],
   "source": [
    "colectie = [[\"hello\", 30, 30,  \"hello\"], [10, 20, 300.441, \"hello\", ]]\n",
    "arr = np.array(colectie)\n",
    "print(arr, type(arr), arr.dtype)\n",
    "print(\"Shape:\", arr.shape)"
   ]
  },
  {
   "cell_type": "code",
   "execution_count": 13,
   "id": "95acd6c7",
   "metadata": {},
   "outputs": [
    {
     "name": "stdout",
     "output_type": "stream",
     "text": [
      "[0. 0. 0. 0. 0.] float64 (5,)\n"
     ]
    }
   ],
   "source": [
    "\n",
    "array = np.zeros(5)\n",
    "print(array, array.dtype, array.shape)\n",
    "\n"
   ]
  },
  {
   "cell_type": "code",
   "execution_count": 14,
   "id": "13cb69ea",
   "metadata": {},
   "outputs": [
    {
     "name": "stdout",
     "output_type": "stream",
     "text": [
      "[1. 1. 1. 1. 1.] float64 (5,)\n"
     ]
    }
   ],
   "source": [
    "\n",
    "array = np.ones(5)\n",
    "print(array, array.dtype, array.shape)"
   ]
  },
  {
   "cell_type": "code",
   "execution_count": 15,
   "id": "eb56f2f8",
   "metadata": {},
   "outputs": [
    {
     "name": "stdout",
     "output_type": "stream",
     "text": [
      "[1. 1. 1.] float64 (3,)\n"
     ]
    }
   ],
   "source": [
    "array = np.ones(3)\n",
    "print(array, array.dtype, array.shape)"
   ]
  },
  {
   "cell_type": "code",
   "execution_count": 16,
   "id": "55e1a1d3",
   "metadata": {},
   "outputs": [
    {
     "name": "stdout",
     "output_type": "stream",
     "text": [
      "[22 22 22 22 22] int64 (5,)\n"
     ]
    }
   ],
   "source": [
    "array = np.full(5, 22)\n",
    "print(array, array.dtype, array.shape)"
   ]
  },
  {
   "cell_type": "code",
   "execution_count": 17,
   "id": "fc57f705",
   "metadata": {},
   "outputs": [
    {
     "name": "stdout",
     "output_type": "stream",
     "text": [
      "[22 22 22 22 22] int64 (5,)\n"
     ]
    }
   ],
   "source": [
    "array = np.full(shape=5, fill_value=22)\n",
    "print(array, array.dtype, array.shape)"
   ]
  },
  {
   "cell_type": "code",
   "execution_count": null,
   "id": "e866bfe6",
   "metadata": {},
   "outputs": [
    {
     "name": "stdout",
     "output_type": "stream",
     "text": [
      "[0 1 2 3 4 5 6 7 8 9] int64 (10,)\n"
     ]
    }
   ],
   "source": [
    "\n",
    "\n",
    "array = np.array(range(10))\n",
    "print(array, array.dtype, array.shape)\n"
   ]
  },
  {
   "cell_type": "code",
   "execution_count": 19,
   "id": "7eb50470",
   "metadata": {},
   "outputs": [
    {
     "name": "stdout",
     "output_type": "stream",
     "text": [
      "[0 1 2 3 4 5 6 7 8 9] int64 (10,)\n"
     ]
    }
   ],
   "source": [
    "\n",
    "array = np.arange(10)\n",
    "print(array, array.dtype, array.shape)"
   ]
  },
  {
   "cell_type": "code",
   "execution_count": 20,
   "id": "840b5ae5",
   "metadata": {},
   "outputs": [
    {
     "name": "stdout",
     "output_type": "stream",
     "text": [
      "[ 3  4  5  6  7  8  9 10 11] int64 (9,)\n"
     ]
    }
   ],
   "source": [
    "\n",
    "array = np.arange(3, 12)\n",
    "print(array, array.dtype, array.shape)"
   ]
  },
  {
   "cell_type": "code",
   "execution_count": 21,
   "id": "19d0adf3",
   "metadata": {},
   "outputs": [
    {
     "name": "stdout",
     "output_type": "stream",
     "text": [
      "[ 3  5  7  9 11] int64 (5,)\n"
     ]
    }
   ],
   "source": [
    "array = np.arange(3, 12, 2)\n",
    "print(array, array.dtype, array.shape)"
   ]
  },
  {
   "cell_type": "code",
   "execution_count": null,
   "id": "0d1eb85b",
   "metadata": {},
   "outputs": [],
   "source": []
  }
 ],
 "metadata": {
  "kernelspec": {
   "display_name": "Python 3",
   "language": "python",
   "name": "python3"
  },
  "language_info": {
   "codemirror_mode": {
    "name": "ipython",
    "version": 3
   },
   "file_extension": ".py",
   "mimetype": "text/x-python",
   "name": "python",
   "nbconvert_exporter": "python",
   "pygments_lexer": "ipython3",
   "version": "3.13.3"
  }
 },
 "nbformat": 4,
 "nbformat_minor": 5
}
