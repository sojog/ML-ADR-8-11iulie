{
 "cells": [
  {
   "cell_type": "code",
   "execution_count": 1,
   "id": "dfba07ca",
   "metadata": {},
   "outputs": [],
   "source": [
    "import numpy as np"
   ]
  },
  {
   "cell_type": "code",
   "execution_count": 2,
   "id": "51a5c078",
   "metadata": {},
   "outputs": [
    {
     "data": {
      "text/plain": [
       "array([1, 2, 3, 4, 5, 6, 7, 8, 9])"
      ]
     },
     "execution_count": 2,
     "metadata": {},
     "output_type": "execute_result"
    }
   ],
   "source": [
    "np.arange(1, 10)"
   ]
  },
  {
   "cell_type": "code",
   "execution_count": 3,
   "id": "78a7e7e8",
   "metadata": {},
   "outputs": [
    {
     "data": {
      "text/plain": [
       "9"
      ]
     },
     "execution_count": 3,
     "metadata": {},
     "output_type": "execute_result"
    }
   ],
   "source": [
    "array = np.arange(1, 10)\n",
    "len(array)"
   ]
  },
  {
   "cell_type": "code",
   "execution_count": 5,
   "id": "27a65842",
   "metadata": {},
   "outputs": [
    {
     "data": {
      "text/plain": [
       "9"
      ]
     },
     "execution_count": 5,
     "metadata": {},
     "output_type": "execute_result"
    }
   ],
   "source": [
    "array.size"
   ]
  },
  {
   "cell_type": "code",
   "execution_count": 8,
   "id": "8ff0779b",
   "metadata": {},
   "outputs": [
    {
     "data": {
      "text/plain": [
       "(np.int64(9), np.int64(1))"
      ]
     },
     "execution_count": 8,
     "metadata": {},
     "output_type": "execute_result"
    }
   ],
   "source": [
    "max(array), min(array)"
   ]
  },
  {
   "cell_type": "code",
   "execution_count": 9,
   "id": "54a8d54d",
   "metadata": {},
   "outputs": [
    {
     "data": {
      "text/plain": [
       "(np.int64(9), np.int64(1))"
      ]
     },
     "execution_count": 9,
     "metadata": {},
     "output_type": "execute_result"
    }
   ],
   "source": [
    "array.max(), array.min()"
   ]
  },
  {
   "cell_type": "code",
   "execution_count": 10,
   "id": "364a15b3",
   "metadata": {},
   "outputs": [
    {
     "data": {
      "text/plain": [
       "np.float64(5.0)"
      ]
     },
     "execution_count": 10,
     "metadata": {},
     "output_type": "execute_result"
    }
   ],
   "source": [
    "sum(array)/len(array)"
   ]
  },
  {
   "cell_type": "code",
   "execution_count": 11,
   "id": "3c3f9b53",
   "metadata": {},
   "outputs": [
    {
     "data": {
      "text/plain": [
       "np.float64(5.0)"
      ]
     },
     "execution_count": 11,
     "metadata": {},
     "output_type": "execute_result"
    }
   ],
   "source": [
    "array.sum() / array.size"
   ]
  },
  {
   "cell_type": "code",
   "execution_count": 12,
   "id": "b736344e",
   "metadata": {},
   "outputs": [
    {
     "data": {
      "text/plain": [
       "np.float64(5.0)"
      ]
     },
     "execution_count": 12,
     "metadata": {},
     "output_type": "execute_result"
    }
   ],
   "source": [
    "array.mean()"
   ]
  },
  {
   "cell_type": "code",
   "execution_count": 13,
   "id": "2ebc388c",
   "metadata": {},
   "outputs": [
    {
     "name": "stderr",
     "output_type": "stream",
     "text": [
      "/var/folders/93/qw471b_96px9kvlzs8__bk480000gn/T/ipykernel_8020/279862279.py:2: RuntimeWarning: Mean of empty slice.\n",
      "  array.mean()\n",
      "/Library/Frameworks/Python.framework/Versions/3.13/lib/python3.13/site-packages/numpy/_core/_methods.py:147: RuntimeWarning: invalid value encountered in scalar divide\n",
      "  ret = ret.dtype.type(ret / rcount)\n"
     ]
    },
    {
     "data": {
      "text/plain": [
       "np.float64(nan)"
      ]
     },
     "execution_count": 13,
     "metadata": {},
     "output_type": "execute_result"
    }
   ],
   "source": [
    "array = np.array([])\n",
    "array.mean()"
   ]
  },
  {
   "cell_type": "code",
   "execution_count": 14,
   "id": "26cfd37f",
   "metadata": {},
   "outputs": [
    {
     "data": {
      "text/plain": [
       "array([ 100,  300,  200,  700, -399,  120,  320,  310,  400, -399, -320])"
      ]
     },
     "execution_count": 14,
     "metadata": {},
     "output_type": "execute_result"
    }
   ],
   "source": [
    "array = np.array([100, 300, 200, 700, -399, 120, 320, 310, 400, -399, -320])\n",
    "array"
   ]
  },
  {
   "cell_type": "code",
   "execution_count": 15,
   "id": "1cc58f3c",
   "metadata": {},
   "outputs": [
    {
     "data": {
      "text/plain": [
       "array([ True,  True,  True,  True, False,  True,  True,  True,  True,\n",
       "       False, False])"
      ]
     },
     "execution_count": 15,
     "metadata": {},
     "output_type": "execute_result"
    }
   ],
   "source": [
    "array > 0"
   ]
  },
  {
   "cell_type": "code",
   "execution_count": 16,
   "id": "2d1e5f66",
   "metadata": {},
   "outputs": [
    {
     "data": {
      "text/plain": [
       "array([100, 300, 200, 700, 120, 320, 310, 400])"
      ]
     },
     "execution_count": 16,
     "metadata": {},
     "output_type": "execute_result"
    }
   ],
   "source": [
    "array[array > 0]"
   ]
  },
  {
   "cell_type": "code",
   "execution_count": 18,
   "id": "468737b0",
   "metadata": {},
   "outputs": [
    {
     "data": {
      "text/plain": [
       "array([ True,  True,  True,  True, False,  True,  True,  True,  True,\n",
       "       False, False])"
      ]
     },
     "execution_count": 18,
     "metadata": {},
     "output_type": "execute_result"
    }
   ],
   "source": [
    "lista = [100, 300, 200, 700, -399, 120, 320, 310, 400, -399, -320]\n",
    "array = np.array(lista)\n",
    "array > 0 "
   ]
  },
  {
   "cell_type": "code",
   "execution_count": 21,
   "id": "ed1b7e25",
   "metadata": {},
   "outputs": [
    {
     "data": {
      "text/plain": [
       "(np.int64(100), np.int64(-320), np.int64(-399))"
      ]
     },
     "execution_count": 21,
     "metadata": {},
     "output_type": "execute_result"
    }
   ],
   "source": [
    "array[0], array[-1], array[-2]"
   ]
  },
  {
   "cell_type": "code",
   "execution_count": null,
   "id": "90dcf9b8",
   "metadata": {},
   "outputs": [
    {
     "data": {
      "text/plain": [
       "array([100, 300, 200, 120, 320, 310])"
      ]
     },
     "execution_count": 22,
     "metadata": {},
     "output_type": "execute_result"
    }
   ],
   "source": [
    "lista = [100, 300, 200, 700, -399, 120, 320, 310, 400, -399, -320]\n",
    "array = np.array(lista)\n",
    "\n",
    "\n",
    "conditie_1 = array > 0\n",
    "conditie_2 = array < 400\n",
    "\n",
    "# conditie SI\n",
    "array[ conditie_1 & conditie_2 ]\n",
    "\n"
   ]
  },
  {
   "cell_type": "code",
   "execution_count": 25,
   "id": "a08a6a82",
   "metadata": {},
   "outputs": [
    {
     "data": {
      "text/plain": [
       "array([ 700, -399, -399, -320])"
      ]
     },
     "execution_count": 25,
     "metadata": {},
     "output_type": "execute_result"
    }
   ],
   "source": [
    "lista = [100, 300, 200, 700, -399, 120, 320, 310, 400, -399, -320]\n",
    "array = np.array(lista)\n",
    "\n",
    "\n",
    "conditie_1 = array < 0\n",
    "conditie_2 = array > 400\n",
    "\n",
    "# conditie SAU\n",
    "array[ conditie_1 | conditie_2 ]"
   ]
  },
  {
   "cell_type": "code",
   "execution_count": 27,
   "id": "6874e28c",
   "metadata": {},
   "outputs": [
    {
     "data": {
      "text/plain": [
       "(np.int64(700), np.int64(3))"
      ]
     },
     "execution_count": 27,
     "metadata": {},
     "output_type": "execute_result"
    }
   ],
   "source": [
    "lista = [100, 300, 200, 700, -399, 120, 320, 310, 400, -399, -320]\n",
    "array = np.array(lista)\n",
    "\n",
    "array.max(), array.argmax()"
   ]
  },
  {
   "cell_type": "code",
   "execution_count": null,
   "id": "3ac257f9",
   "metadata": {},
   "outputs": [],
   "source": []
  }
 ],
 "metadata": {
  "kernelspec": {
   "display_name": "Python 3",
   "language": "python",
   "name": "python3"
  },
  "language_info": {
   "codemirror_mode": {
    "name": "ipython",
    "version": 3
   },
   "file_extension": ".py",
   "mimetype": "text/x-python",
   "name": "python",
   "nbconvert_exporter": "python",
   "pygments_lexer": "ipython3",
   "version": "3.13.3"
  }
 },
 "nbformat": 4,
 "nbformat_minor": 5
}
