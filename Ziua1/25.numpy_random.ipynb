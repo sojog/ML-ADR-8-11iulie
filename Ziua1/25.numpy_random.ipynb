{
 "cells": [
  {
   "cell_type": "code",
   "execution_count": 1,
   "id": "1b808a22",
   "metadata": {},
   "outputs": [],
   "source": [
    "import random"
   ]
  },
  {
   "cell_type": "code",
   "execution_count": 2,
   "id": "8bed2a98",
   "metadata": {},
   "outputs": [
    {
     "data": {
      "text/plain": [
       "0.8431017476805127"
      ]
     },
     "execution_count": 2,
     "metadata": {},
     "output_type": "execute_result"
    }
   ],
   "source": [
    "random.random()"
   ]
  },
  {
   "cell_type": "code",
   "execution_count": 3,
   "id": "e2537fb1",
   "metadata": {},
   "outputs": [
    {
     "data": {
      "text/plain": [
       "0.36941408995437075"
      ]
     },
     "execution_count": 3,
     "metadata": {},
     "output_type": "execute_result"
    }
   ],
   "source": [
    "random.random()"
   ]
  },
  {
   "cell_type": "code",
   "execution_count": 4,
   "id": "c1ed2508",
   "metadata": {},
   "outputs": [
    {
     "data": {
      "text/plain": [
       "0.942909728373534"
      ]
     },
     "execution_count": 4,
     "metadata": {},
     "output_type": "execute_result"
    }
   ],
   "source": [
    "random.random()"
   ]
  },
  {
   "cell_type": "code",
   "execution_count": 5,
   "id": "cdaa5eb1",
   "metadata": {},
   "outputs": [
    {
     "data": {
      "text/plain": [
       "0.7092342065736795"
      ]
     },
     "execution_count": 5,
     "metadata": {},
     "output_type": "execute_result"
    }
   ],
   "source": [
    "random.random()"
   ]
  },
  {
   "cell_type": "code",
   "execution_count": 6,
   "id": "2f67d0bd",
   "metadata": {},
   "outputs": [
    {
     "data": {
      "text/plain": [
       "5"
      ]
     },
     "execution_count": 6,
     "metadata": {},
     "output_type": "execute_result"
    }
   ],
   "source": [
    "random.randint(1, 10)"
   ]
  },
  {
   "cell_type": "code",
   "execution_count": 7,
   "id": "5b297e40",
   "metadata": {},
   "outputs": [
    {
     "data": {
      "text/plain": [
       "3"
      ]
     },
     "execution_count": 7,
     "metadata": {},
     "output_type": "execute_result"
    }
   ],
   "source": [
    "random.randint(1, 10)"
   ]
  },
  {
   "cell_type": "code",
   "execution_count": 9,
   "id": "4631f4d9",
   "metadata": {},
   "outputs": [
    {
     "data": {
      "text/plain": [
       "2"
      ]
     },
     "execution_count": 9,
     "metadata": {},
     "output_type": "execute_result"
    }
   ],
   "source": [
    "random.randint(1, 2)"
   ]
  },
  {
   "cell_type": "code",
   "execution_count": 10,
   "id": "0e9290db",
   "metadata": {},
   "outputs": [],
   "source": [
    "import numpy as np"
   ]
  },
  {
   "cell_type": "code",
   "execution_count": 11,
   "id": "673c5ddb",
   "metadata": {},
   "outputs": [
    {
     "data": {
      "text/plain": [
       "0.5152299472482194"
      ]
     },
     "execution_count": 11,
     "metadata": {},
     "output_type": "execute_result"
    }
   ],
   "source": [
    "np.random.random()"
   ]
  },
  {
   "cell_type": "code",
   "execution_count": 12,
   "id": "25fcbe3e",
   "metadata": {},
   "outputs": [
    {
     "data": {
      "text/plain": [
       "0.25496993005580615"
      ]
     },
     "execution_count": 12,
     "metadata": {},
     "output_type": "execute_result"
    }
   ],
   "source": [
    "np.random.random()"
   ]
  },
  {
   "cell_type": "code",
   "execution_count": 13,
   "id": "1fbaf6e2",
   "metadata": {},
   "outputs": [
    {
     "data": {
      "text/plain": [
       "array([0.09872353, 0.91759656, 0.35627845, 0.39483171, 0.83790185,\n",
       "       0.51892827, 0.29733097, 0.03467715, 0.83983824, 0.79304985])"
      ]
     },
     "execution_count": 13,
     "metadata": {},
     "output_type": "execute_result"
    }
   ],
   "source": [
    "np.random.random(10)"
   ]
  },
  {
   "cell_type": "code",
   "execution_count": 14,
   "id": "dd8e988e",
   "metadata": {},
   "outputs": [
    {
     "data": {
      "text/plain": [
       "66"
      ]
     },
     "execution_count": 14,
     "metadata": {},
     "output_type": "execute_result"
    }
   ],
   "source": [
    "np.random.randint(0, 100)"
   ]
  },
  {
   "cell_type": "code",
   "execution_count": 15,
   "id": "8bd2539d",
   "metadata": {},
   "outputs": [
    {
     "data": {
      "text/plain": [
       "array([52, 35, 49, 15, 85, 62, 40,  6, 59, 40])"
      ]
     },
     "execution_count": 15,
     "metadata": {},
     "output_type": "execute_result"
    }
   ],
   "source": [
    "np.random.randint(0, 100, 10)"
   ]
  },
  {
   "cell_type": "code",
   "execution_count": null,
   "id": "7dd6f57b",
   "metadata": {},
   "outputs": [
    {
     "data": {
      "text/plain": [
       "array([40, 69, 88, 34, 61, 29, 81, 78, 59,  8])"
      ]
     },
     "execution_count": 16,
     "metadata": {},
     "output_type": "execute_result"
    }
   ],
   "source": [
    "np.random.randint(0, 100, 10)"
   ]
  },
  {
   "cell_type": "code",
   "execution_count": 17,
   "id": "ce740d66",
   "metadata": {},
   "outputs": [
    {
     "data": {
      "text/plain": [
       "array([[66, 97],\n",
       "       [60, 17],\n",
       "       [58, 18]])"
      ]
     },
     "execution_count": 17,
     "metadata": {},
     "output_type": "execute_result"
    }
   ],
   "source": [
    "np.random.randint(0, 100, (3, 2))"
   ]
  },
  {
   "cell_type": "code",
   "execution_count": 18,
   "id": "aefe5f1d",
   "metadata": {},
   "outputs": [
    {
     "data": {
      "text/plain": [
       "array([[12, 54],\n",
       "       [73, 48],\n",
       "       [11, 53]])"
      ]
     },
     "execution_count": 18,
     "metadata": {},
     "output_type": "execute_result"
    }
   ],
   "source": [
    "matrice = np.random.randint(0, 100, (3, 2))\n",
    "matrice"
   ]
  },
  {
   "cell_type": "code",
   "execution_count": 19,
   "id": "31544267",
   "metadata": {},
   "outputs": [
    {
     "data": {
      "text/plain": [
       "np.int64(11)"
      ]
     },
     "execution_count": 19,
     "metadata": {},
     "output_type": "execute_result"
    }
   ],
   "source": [
    "matrice[2][0]"
   ]
  },
  {
   "cell_type": "code",
   "execution_count": 20,
   "id": "2c00ce49",
   "metadata": {},
   "outputs": [
    {
     "data": {
      "text/plain": [
       "array([11, 53])"
      ]
     },
     "execution_count": 20,
     "metadata": {},
     "output_type": "execute_result"
    }
   ],
   "source": [
    "matrice[-1]"
   ]
  },
  {
   "cell_type": "code",
   "execution_count": 21,
   "id": "4c640847",
   "metadata": {},
   "outputs": [
    {
     "data": {
      "text/plain": [
       "array([[11, 53],\n",
       "       [73, 48],\n",
       "       [12, 54]])"
      ]
     },
     "execution_count": 21,
     "metadata": {},
     "output_type": "execute_result"
    }
   ],
   "source": [
    "matrice[::-1]"
   ]
  },
  {
   "cell_type": "code",
   "execution_count": 22,
   "id": "a3584000",
   "metadata": {},
   "outputs": [
    {
     "data": {
      "text/plain": [
       "((3, 2), 6, 2)"
      ]
     },
     "execution_count": 22,
     "metadata": {},
     "output_type": "execute_result"
    }
   ],
   "source": [
    "matrice.shape, matrice.size, matrice.ndim"
   ]
  },
  {
   "cell_type": "code",
   "execution_count": 23,
   "id": "56dab46d",
   "metadata": {},
   "outputs": [
    {
     "data": {
      "text/plain": [
       "array([[12, 54, 73],\n",
       "       [48, 11, 53]])"
      ]
     },
     "execution_count": 23,
     "metadata": {},
     "output_type": "execute_result"
    }
   ],
   "source": [
    "matrice.reshape((2,3))"
   ]
  },
  {
   "cell_type": "code",
   "execution_count": 25,
   "id": "9618fecc",
   "metadata": {},
   "outputs": [
    {
     "data": {
      "text/plain": [
       "array([[12, 54, 73, 48, 11, 53]])"
      ]
     },
     "execution_count": 25,
     "metadata": {},
     "output_type": "execute_result"
    }
   ],
   "source": [
    "matrice.reshape((1,6))"
   ]
  },
  {
   "cell_type": "code",
   "execution_count": 26,
   "id": "7da9231f",
   "metadata": {},
   "outputs": [
    {
     "data": {
      "text/plain": [
       "array([12, 54, 73, 48, 11, 53])"
      ]
     },
     "execution_count": 26,
     "metadata": {},
     "output_type": "execute_result"
    }
   ],
   "source": [
    "matrice.reshape((6,))"
   ]
  },
  {
   "cell_type": "code",
   "execution_count": 27,
   "id": "5166b9bd",
   "metadata": {},
   "outputs": [
    {
     "data": {
      "text/plain": [
       "array([12, 54, 73, 48, 11, 53])"
      ]
     },
     "execution_count": 27,
     "metadata": {},
     "output_type": "execute_result"
    }
   ],
   "source": [
    "matrice.flatten()\n"
   ]
  },
  {
   "cell_type": "code",
   "execution_count": 28,
   "id": "2eb97254",
   "metadata": {},
   "outputs": [
    {
     "data": {
      "text/plain": [
       "array([[12, 73, 11],\n",
       "       [54, 48, 53]])"
      ]
     },
     "execution_count": 28,
     "metadata": {},
     "output_type": "execute_result"
    }
   ],
   "source": [
    "matrice.T"
   ]
  },
  {
   "cell_type": "code",
   "execution_count": null,
   "id": "8bc89840",
   "metadata": {},
   "outputs": [],
   "source": []
  }
 ],
 "metadata": {
  "kernelspec": {
   "display_name": "Python 3",
   "language": "python",
   "name": "python3"
  },
  "language_info": {
   "codemirror_mode": {
    "name": "ipython",
    "version": 3
   },
   "file_extension": ".py",
   "mimetype": "text/x-python",
   "name": "python",
   "nbconvert_exporter": "python",
   "pygments_lexer": "ipython3",
   "version": "3.13.3"
  }
 },
 "nbformat": 4,
 "nbformat_minor": 5
}
