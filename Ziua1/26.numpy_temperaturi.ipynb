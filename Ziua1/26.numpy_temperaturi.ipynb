{
 "cells": [
  {
   "cell_type": "code",
   "execution_count": 3,
   "id": "4d87f51e",
   "metadata": {},
   "outputs": [],
   "source": [
    "import numpy as np"
   ]
  },
  {
   "cell_type": "code",
   "execution_count": 5,
   "id": "1e0da3b1",
   "metadata": {},
   "outputs": [
    {
     "data": {
      "text/plain": [
       "array([32, 43, 13, 28, 40, 23, 22, 28, 19, 30])"
      ]
     },
     "execution_count": 5,
     "metadata": {},
     "output_type": "execute_result"
    }
   ],
   "source": [
    "np.random.randint(10, 45, 10)"
   ]
  },
  {
   "cell_type": "code",
   "execution_count": 6,
   "id": "69ee0ab0",
   "metadata": {},
   "outputs": [
    {
     "data": {
      "text/plain": [
       "array([36.3985401 , 34.32739331, 17.8682258 , 32.88466952, 31.60541544,\n",
       "       43.86935023, 14.73379181, 10.31380711, 22.33527092, 12.82481524])"
      ]
     },
     "execution_count": 6,
     "metadata": {},
     "output_type": "execute_result"
    }
   ],
   "source": [
    "np.random.uniform(10, 45, 10)"
   ]
  },
  {
   "cell_type": "code",
   "execution_count": 7,
   "id": "f4ea33e0",
   "metadata": {},
   "outputs": [
    {
     "data": {
      "text/plain": [
       "array([17, 32, 12, 21, 27, 40, 15, 35, 43, 22])"
      ]
     },
     "execution_count": 7,
     "metadata": {},
     "output_type": "execute_result"
    }
   ],
   "source": [
    "np.random.randint(10, 45, 10)"
   ]
  },
  {
   "cell_type": "code",
   "execution_count": 8,
   "id": "d4c4df9a",
   "metadata": {},
   "outputs": [
    {
     "data": {
      "text/plain": [
       "array([[42, 21],\n",
       "       [17, 20],\n",
       "       [35, 31],\n",
       "       [32, 11],\n",
       "       [36, 15]])"
      ]
     },
     "execution_count": 8,
     "metadata": {},
     "output_type": "execute_result"
    }
   ],
   "source": [
    "np.random.randint(10, 45, (5, 2))"
   ]
  },
  {
   "cell_type": "code",
   "execution_count": 9,
   "id": "e007d2cb",
   "metadata": {},
   "outputs": [
    {
     "data": {
      "text/plain": [
       "array([[40, 14, 16],\n",
       "       [42, 17, 41],\n",
       "       [35, 18, 26],\n",
       "       [37, 21, 38],\n",
       "       [19, 19, 30],\n",
       "       [35, 42, 23],\n",
       "       [41, 20, 13],\n",
       "       [14, 39, 11],\n",
       "       [36, 25, 11],\n",
       "       [39, 38, 35],\n",
       "       [31, 38, 26],\n",
       "       [34, 30, 14],\n",
       "       [18, 28, 31],\n",
       "       [29, 36, 13],\n",
       "       [34, 20, 15],\n",
       "       [26, 22, 44],\n",
       "       [36, 24, 20],\n",
       "       [38, 10, 41],\n",
       "       [18, 26, 20],\n",
       "       [42, 44, 37],\n",
       "       [12, 34, 23],\n",
       "       [19, 39, 22],\n",
       "       [18, 29, 22],\n",
       "       [11, 23, 39],\n",
       "       [26, 13, 30],\n",
       "       [44, 26, 27],\n",
       "       [14, 22, 37],\n",
       "       [11, 22, 18],\n",
       "       [42, 37, 24],\n",
       "       [24, 17, 18]])"
      ]
     },
     "execution_count": 9,
     "metadata": {},
     "output_type": "execute_result"
    }
   ],
   "source": [
    "np.random.randint(10, 45, (30,  3))"
   ]
  },
  {
   "cell_type": "code",
   "execution_count": 10,
   "id": "f960f455",
   "metadata": {},
   "outputs": [
    {
     "data": {
      "text/plain": [
       "array([[42, 19, 33, 20, 39, 25, 41, 25, 14, 37, 29, 19, 31, 12, 27, 42,\n",
       "        22, 28, 17, 19, 37, 38, 31, 41, 37, 27, 13, 13, 36, 26],\n",
       "       [16, 22, 22, 41, 31, 31, 29, 43, 40, 29, 39, 13, 21, 40, 37, 18,\n",
       "        31, 10, 19, 38, 43, 18, 14, 21, 16, 26, 40, 19, 42, 27],\n",
       "       [13, 25, 11, 14, 13, 18, 24, 22, 12, 17, 35, 21, 26, 19, 18, 43,\n",
       "        24, 40, 31, 32, 35, 23, 13, 30, 16, 39, 14, 22, 35, 17]])"
      ]
     },
     "execution_count": 10,
     "metadata": {},
     "output_type": "execute_result"
    }
   ],
   "source": [
    "np.random.randint(10, 45, (3,  30))"
   ]
  },
  {
   "cell_type": "code",
   "execution_count": 13,
   "id": "39f0a7cb",
   "metadata": {},
   "outputs": [
    {
     "data": {
      "text/plain": [
       "array([[26, 12, 15],\n",
       "       [30, 36, 23],\n",
       "       [39, 10, 29],\n",
       "       [21, 33, 14],\n",
       "       [40, 13, 44],\n",
       "       [11, 16, 30],\n",
       "       [33, 19, 42],\n",
       "       [23, 42, 29],\n",
       "       [33, 22, 36],\n",
       "       [15, 28, 20],\n",
       "       [39, 16, 19],\n",
       "       [21, 36, 16],\n",
       "       [23, 27, 15],\n",
       "       [28, 34, 30],\n",
       "       [44, 13, 16],\n",
       "       [21, 24, 27],\n",
       "       [27, 34, 22],\n",
       "       [40, 38, 23],\n",
       "       [26, 14, 41],\n",
       "       [20, 34, 29],\n",
       "       [20, 18, 31],\n",
       "       [15, 11, 33],\n",
       "       [27, 24, 17],\n",
       "       [19, 32, 11],\n",
       "       [34, 10, 31],\n",
       "       [24, 32, 38],\n",
       "       [22, 29, 21],\n",
       "       [26, 33, 19],\n",
       "       [17, 43, 18],\n",
       "       [13, 18, 42]])"
      ]
     },
     "execution_count": 13,
     "metadata": {},
     "output_type": "execute_result"
    }
   ],
   "source": [
    "date = np.random.randint(10, 45, (30,  3))\n",
    "date\n"
   ]
  },
  {
   "cell_type": "code",
   "execution_count": 12,
   "id": "54c96bdf",
   "metadata": {},
   "outputs": [
    {
     "data": {
      "text/plain": [
       "np.float64(27.166666666666668)"
      ]
     },
     "execution_count": 12,
     "metadata": {},
     "output_type": "execute_result"
    }
   ],
   "source": [
    "date.mean()"
   ]
  },
  {
   "cell_type": "code",
   "execution_count": 15,
   "id": "934ff59a",
   "metadata": {},
   "outputs": [
    {
     "data": {
      "text/plain": [
       "30"
      ]
     },
     "execution_count": 15,
     "metadata": {},
     "output_type": "execute_result"
    }
   ],
   "source": [
    "len(date.mean(axis=1))"
   ]
  },
  {
   "cell_type": "code",
   "execution_count": 16,
   "id": "2a968d20",
   "metadata": {},
   "outputs": [
    {
     "data": {
      "text/plain": [
       "np.float64(1.5)"
      ]
     },
     "execution_count": 16,
     "metadata": {},
     "output_type": "execute_result"
    }
   ],
   "source": [
    "array = np.array([[0, 1],[2, 3]])\n",
    "array.mean()\n",
    "\n"
   ]
  },
  {
   "cell_type": "code",
   "execution_count": 17,
   "id": "d391c254",
   "metadata": {},
   "outputs": [
    {
     "data": {
      "text/plain": [
       "array([1., 2.])"
      ]
     },
     "execution_count": 17,
     "metadata": {},
     "output_type": "execute_result"
    }
   ],
   "source": [
    "array = np.array([[0, 1],\n",
    "                  [2, 3]])\n",
    "array.mean(axis=0)"
   ]
  },
  {
   "cell_type": "code",
   "execution_count": 18,
   "id": "d32bf69f",
   "metadata": {},
   "outputs": [
    {
     "data": {
      "text/plain": [
       "array([0.5, 2.5])"
      ]
     },
     "execution_count": 18,
     "metadata": {},
     "output_type": "execute_result"
    }
   ],
   "source": [
    "array = np.array([[0, 1],\n",
    "                  [2, 3]])\n",
    "array.mean(axis=1)"
   ]
  },
  {
   "cell_type": "code",
   "execution_count": 20,
   "id": "0ba7acd8",
   "metadata": {},
   "outputs": [
    {
     "data": {
      "text/plain": [
       "array([25.9       , 25.03333333, 26.03333333])"
      ]
     },
     "execution_count": 20,
     "metadata": {},
     "output_type": "execute_result"
    }
   ],
   "source": [
    "date.mean(axis=0)"
   ]
  },
  {
   "cell_type": "code",
   "execution_count": 21,
   "id": "c35e1699",
   "metadata": {},
   "outputs": [
    {
     "data": {
      "text/plain": [
       "array([25.9       , 25.03333333, 26.03333333])"
      ]
     },
     "execution_count": 21,
     "metadata": {},
     "output_type": "execute_result"
    }
   ],
   "source": [
    "np.mean(date, axis=0)"
   ]
  },
  {
   "cell_type": "code",
   "execution_count": 22,
   "id": "751df31f",
   "metadata": {},
   "outputs": [],
   "source": [
    "medii_per_zi = date.mean(axis=1)"
   ]
  },
  {
   "cell_type": "code",
   "execution_count": 23,
   "id": "d5054bd4",
   "metadata": {},
   "outputs": [],
   "source": [
    "medii_per_statie = date.mean(axis=0)"
   ]
  },
  {
   "cell_type": "markdown",
   "id": "a42be2eb",
   "metadata": {},
   "source": []
  },
  {
   "cell_type": "code",
   "execution_count": 24,
   "id": "92d4c879",
   "metadata": {},
   "outputs": [],
   "source": [
    "diferentele = np.ptp(date, axis=1)"
   ]
  },
  {
   "cell_type": "code",
   "execution_count": 27,
   "id": "93405764",
   "metadata": {},
   "outputs": [
    {
     "data": {
      "text/plain": [
       "array([14, 13, 29, 19, 31, 19, 23, 19, 14, 13, 23, 20, 12,  6, 31,  6, 12,\n",
       "       17, 27, 14, 13, 22, 10, 21, 24, 14,  8, 14, 26, 29])"
      ]
     },
     "execution_count": 27,
     "metadata": {},
     "output_type": "execute_result"
    }
   ],
   "source": [
    "diferentele"
   ]
  },
  {
   "cell_type": "code",
   "execution_count": 28,
   "id": "6d1f3366",
   "metadata": {},
   "outputs": [
    {
     "data": {
      "text/plain": [
       "(np.int64(31), np.int64(4))"
      ]
     },
     "execution_count": 28,
     "metadata": {},
     "output_type": "execute_result"
    }
   ],
   "source": [
    "diferentele.max(), diferentele.argmax()"
   ]
  },
  {
   "cell_type": "code",
   "execution_count": null,
   "id": "7e2eac7b",
   "metadata": {},
   "outputs": [],
   "source": []
  }
 ],
 "metadata": {
  "kernelspec": {
   "display_name": "Python 3",
   "language": "python",
   "name": "python3"
  },
  "language_info": {
   "codemirror_mode": {
    "name": "ipython",
    "version": 3
   },
   "file_extension": ".py",
   "mimetype": "text/x-python",
   "name": "python",
   "nbconvert_exporter": "python",
   "pygments_lexer": "ipython3",
   "version": "3.13.3"
  }
 },
 "nbformat": 4,
 "nbformat_minor": 5
}
