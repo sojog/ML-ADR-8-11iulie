{
 "cells": [
  {
   "cell_type": "code",
   "execution_count": 1,
   "id": "38784dbb",
   "metadata": {},
   "outputs": [
    {
     "name": "stdout",
     "output_type": "stream",
     "text": [
      "2\n",
      "3\n",
      "4\n"
     ]
    }
   ],
   "source": [
    "lista = [2, 3, 4]\n",
    "for i in lista:\n",
    "    print(i)\n",
    "\n"
   ]
  },
  {
   "cell_type": "code",
   "execution_count": 2,
   "id": "9225b437",
   "metadata": {},
   "outputs": [
    {
     "name": "stdout",
     "output_type": "stream",
     "text": [
      "0\n",
      "1\n",
      "2\n"
     ]
    }
   ],
   "source": [
    "lista = [200, 300, 400]\n",
    "for i in range(len(lista)):\n",
    "    print(i)"
   ]
  },
  {
   "cell_type": "code",
   "execution_count": 3,
   "id": "d849bd2a",
   "metadata": {},
   "outputs": [
    {
     "name": "stdout",
     "output_type": "stream",
     "text": [
      "0\n",
      "1\n",
      "2\n"
     ]
    }
   ],
   "source": [
    "lista = [200, 300, 400]\n",
    "for i in range(0, len(lista)):\n",
    "    print(i)"
   ]
  },
  {
   "cell_type": "code",
   "execution_count": 4,
   "id": "5930288d",
   "metadata": {},
   "outputs": [
    {
     "name": "stdout",
     "output_type": "stream",
     "text": [
      "(0, 200)\n",
      "(1, 300)\n",
      "(2, 400)\n"
     ]
    }
   ],
   "source": [
    "lista = [200, 300, 400]\n",
    "for i in enumerate(lista):\n",
    "    print(i)"
   ]
  },
  {
   "cell_type": "code",
   "execution_count": 5,
   "id": "e0462d2d",
   "metadata": {},
   "outputs": [
    {
     "name": "stdout",
     "output_type": "stream",
     "text": [
      "index= 0\n",
      "element= 200\n",
      "index= 1\n",
      "element= 300\n",
      "index= 2\n",
      "element= 400\n"
     ]
    }
   ],
   "source": [
    "lista = [200, 300, 400]\n",
    "for index, element in enumerate(lista):\n",
    "    print(\"index=\", index)\n",
    "    print(\"element=\", element)"
   ]
  },
  {
   "cell_type": "code",
   "execution_count": 6,
   "id": "2c111889",
   "metadata": {},
   "outputs": [
    {
     "data": {
      "text/plain": [
       "('alb', 'negru')"
      ]
     },
     "execution_count": 6,
     "metadata": {},
     "output_type": "execute_result"
    }
   ],
   "source": [
    "tuplu = [\"alb\", \"negru\"]\n",
    "primul = tuplu[0]\n",
    "al_doilea = tuplu[1]\n",
    "primul, al_doilea "
   ]
  },
  {
   "cell_type": "code",
   "execution_count": null,
   "id": "d30132a2",
   "metadata": {},
   "outputs": [
    {
     "data": {
      "text/plain": [
       "'alb'"
      ]
     },
     "execution_count": 8,
     "metadata": {},
     "output_type": "execute_result"
    }
   ],
   "source": [
    "tuplu = [\"alb\", \"negru\",]\n",
    "primul, al_doilea = tuplu\n",
    "primul"
   ]
  },
  {
   "cell_type": "code",
   "execution_count": 9,
   "id": "a7d0d4c8",
   "metadata": {},
   "outputs": [
    {
     "ename": "ValueError",
     "evalue": "too many values to unpack (expected 2)",
     "output_type": "error",
     "traceback": [
      "\u001b[31m---------------------------------------------------------------------------\u001b[39m",
      "\u001b[31mValueError\u001b[39m                                Traceback (most recent call last)",
      "\u001b[36mCell\u001b[39m\u001b[36m \u001b[39m\u001b[32mIn[9]\u001b[39m\u001b[32m, line 2\u001b[39m\n\u001b[32m      1\u001b[39m tuplu = [\u001b[33m\"\u001b[39m\u001b[33malb\u001b[39m\u001b[33m\"\u001b[39m, \u001b[33m\"\u001b[39m\u001b[33mnegru\u001b[39m\u001b[33m\"\u001b[39m, \u001b[33m\"\u001b[39m\u001b[33mverde\u001b[39m\u001b[33m\"\u001b[39m]\n\u001b[32m----> \u001b[39m\u001b[32m2\u001b[39m primul, al_doilea = tuplu\n\u001b[32m      3\u001b[39m primul\n",
      "\u001b[31mValueError\u001b[39m: too many values to unpack (expected 2)"
     ]
    }
   ],
   "source": [
    "tuplu = [\"alb\", \"negru\", \"verde\"]\n",
    "primul, al_doilea = tuplu\n",
    "primul"
   ]
  },
  {
   "cell_type": "code",
   "execution_count": 10,
   "id": "33af9b59",
   "metadata": {},
   "outputs": [
    {
     "name": "stdout",
     "output_type": "stream",
     "text": [
      "x= 99\n",
      "y= 10\n"
     ]
    }
   ],
   "source": [
    "x = 10\n",
    "y = 99\n",
    "\n",
    "x, y = y, x\n",
    "print(\"x=\", x)\n",
    "print(\"y=\", y)"
   ]
  },
  {
   "cell_type": "code",
   "execution_count": null,
   "id": "cc9923c0",
   "metadata": {},
   "outputs": [],
   "source": []
  }
 ],
 "metadata": {
  "kernelspec": {
   "display_name": "Python 3",
   "language": "python",
   "name": "python3"
  },
  "language_info": {
   "codemirror_mode": {
    "name": "ipython",
    "version": 3
   },
   "file_extension": ".py",
   "mimetype": "text/x-python",
   "name": "python",
   "nbconvert_exporter": "python",
   "pygments_lexer": "ipython3",
   "version": "3.13.3"
  }
 },
 "nbformat": 4,
 "nbformat_minor": 5
}
