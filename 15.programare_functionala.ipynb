{
 "cells": [
  {
   "cell_type": "code",
   "execution_count": 1,
   "id": "73ced70e",
   "metadata": {},
   "outputs": [],
   "source": [
    "\n",
    "def adunare(a, b):\n",
    "    return a + b\n",
    "\n",
    "\n",
    "def scadere(a, b):\n",
    "    return a - b"
   ]
  },
  {
   "cell_type": "code",
   "execution_count": 2,
   "id": "df36a52d",
   "metadata": {},
   "outputs": [],
   "source": [
    "def executa_operatia(func, x, y):\n",
    "    print(func(x, y))"
   ]
  },
  {
   "cell_type": "code",
   "execution_count": 3,
   "id": "5c810616",
   "metadata": {},
   "outputs": [
    {
     "name": "stdout",
     "output_type": "stream",
     "text": [
      "13\n"
     ]
    }
   ],
   "source": [
    "executa_operatia(adunare, 10, 3)"
   ]
  },
  {
   "cell_type": "code",
   "execution_count": 4,
   "id": "bff33eb3",
   "metadata": {},
   "outputs": [
    {
     "name": "stdout",
     "output_type": "stream",
     "text": [
      "4\n"
     ]
    }
   ],
   "source": [
    "executa_operatia(scadere, 11, 7)"
   ]
  },
  {
   "cell_type": "code",
   "execution_count": 5,
   "id": "d205c571",
   "metadata": {},
   "outputs": [
    {
     "data": {
      "text/plain": [
       "<function __main__.adunare(a, b)>"
      ]
     },
     "execution_count": 5,
     "metadata": {},
     "output_type": "execute_result"
    }
   ],
   "source": [
    "adunare"
   ]
  },
  {
   "cell_type": "code",
   "execution_count": 6,
   "id": "ce7e4699",
   "metadata": {},
   "outputs": [],
   "source": [
    "x = adunare"
   ]
  },
  {
   "cell_type": "code",
   "execution_count": 7,
   "id": "5ac2647a",
   "metadata": {},
   "outputs": [
    {
     "data": {
      "text/plain": [
       "<function __main__.adunare(a, b)>"
      ]
     },
     "execution_count": 7,
     "metadata": {},
     "output_type": "execute_result"
    }
   ],
   "source": [
    "x"
   ]
  },
  {
   "cell_type": "code",
   "execution_count": 8,
   "id": "5de09ab7",
   "metadata": {},
   "outputs": [
    {
     "data": {
      "text/plain": [
       "800"
      ]
     },
     "execution_count": 8,
     "metadata": {},
     "output_type": "execute_result"
    }
   ],
   "source": [
    "x(300, 500)"
   ]
  },
  {
   "cell_type": "markdown",
   "id": "34ac9d66",
   "metadata": {},
   "source": [
    "# Functii anonime"
   ]
  },
  {
   "cell_type": "code",
   "execution_count": 9,
   "id": "263f9144",
   "metadata": {},
   "outputs": [],
   "source": [
    "def patrat(x):\n",
    "    return x ** 2"
   ]
  },
  {
   "cell_type": "code",
   "execution_count": 10,
   "id": "106502e3",
   "metadata": {},
   "outputs": [
    {
     "data": {
      "text/plain": [
       "100"
      ]
     },
     "execution_count": 10,
     "metadata": {},
     "output_type": "execute_result"
    }
   ],
   "source": [
    "patrat(10)"
   ]
  },
  {
   "cell_type": "markdown",
   "id": "dc77aa4b",
   "metadata": {},
   "source": [
    "# Functie anonima"
   ]
  },
  {
   "cell_type": "code",
   "execution_count": 12,
   "id": "a04713c6",
   "metadata": {},
   "outputs": [],
   "source": [
    "cub = lambda x : x ** 3"
   ]
  },
  {
   "cell_type": "code",
   "execution_count": 13,
   "id": "4861d8c6",
   "metadata": {},
   "outputs": [
    {
     "data": {
      "text/plain": [
       "8"
      ]
     },
     "execution_count": 13,
     "metadata": {},
     "output_type": "execute_result"
    }
   ],
   "source": [
    "cub(2)"
   ]
  },
  {
   "cell_type": "code",
   "execution_count": 14,
   "id": "b928af0d",
   "metadata": {},
   "outputs": [
    {
     "data": {
      "text/plain": [
       "27"
      ]
     },
     "execution_count": 14,
     "metadata": {},
     "output_type": "execute_result"
    }
   ],
   "source": [
    "cub(3)"
   ]
  },
  {
   "cell_type": "code",
   "execution_count": 15,
   "id": "cdd9cec4",
   "metadata": {},
   "outputs": [
    {
     "data": {
      "text/plain": [
       "64"
      ]
     },
     "execution_count": 15,
     "metadata": {},
     "output_type": "execute_result"
    }
   ],
   "source": [
    "cub(4)"
   ]
  },
  {
   "cell_type": "code",
   "execution_count": 16,
   "id": "e82451be",
   "metadata": {},
   "outputs": [
    {
     "data": {
      "text/plain": [
       "125"
      ]
     },
     "execution_count": 16,
     "metadata": {},
     "output_type": "execute_result"
    }
   ],
   "source": [
    "cub(5)"
   ]
  },
  {
   "cell_type": "code",
   "execution_count": null,
   "id": "6552d046",
   "metadata": {},
   "outputs": [],
   "source": []
  }
 ],
 "metadata": {
  "kernelspec": {
   "display_name": "Python 3",
   "language": "python",
   "name": "python3"
  },
  "language_info": {
   "codemirror_mode": {
    "name": "ipython",
    "version": 3
   },
   "file_extension": ".py",
   "mimetype": "text/x-python",
   "name": "python",
   "nbconvert_exporter": "python",
   "pygments_lexer": "ipython3",
   "version": "3.13.3"
  }
 },
 "nbformat": 4,
 "nbformat_minor": 5
}
