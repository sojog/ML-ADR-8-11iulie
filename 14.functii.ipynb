{
 "cells": [
  {
   "cell_type": "code",
   "execution_count": 1,
   "id": "1ed85e23",
   "metadata": {},
   "outputs": [
    {
     "name": "stdout",
     "output_type": "stream",
     "text": [
      "\n"
     ]
    }
   ],
   "source": [
    "print()\n"
   ]
  },
  {
   "cell_type": "code",
   "execution_count": 2,
   "id": "701a1a8b",
   "metadata": {},
   "outputs": [
    {
     "name": "stdout",
     "output_type": "stream",
     "text": [
      "10\n"
     ]
    }
   ],
   "source": [
    "print(10)"
   ]
  },
  {
   "cell_type": "code",
   "execution_count": 3,
   "id": "d4d8d178",
   "metadata": {},
   "outputs": [
    {
     "name": "stdout",
     "output_type": "stream",
     "text": [
      "10 20\n"
     ]
    }
   ],
   "source": [
    "print(10, 20)"
   ]
  },
  {
   "cell_type": "code",
   "execution_count": 6,
   "id": "f498d52a",
   "metadata": {},
   "outputs": [
    {
     "name": "stdout",
     "output_type": "stream",
     "text": [
      "10 20 30 1000 3000 2310 312 3123 13 1 3 131 31\n"
     ]
    }
   ],
   "source": [
    "print(10, 20, 30, 1000, 3000, 2310, 312,3123,13,1,3,131,31)"
   ]
  },
  {
   "cell_type": "code",
   "execution_count": 9,
   "id": "0fd8ae62",
   "metadata": {},
   "outputs": [],
   "source": [
    "def functie_cu_parametri_nelimitati(*params):\n",
    "    print(params, type(params))"
   ]
  },
  {
   "cell_type": "code",
   "execution_count": 10,
   "id": "1c8c7d11",
   "metadata": {},
   "outputs": [
    {
     "name": "stdout",
     "output_type": "stream",
     "text": [
      "(10, 20) <class 'tuple'>\n"
     ]
    }
   ],
   "source": [
    "functie_cu_parametri_nelimitati(10, 20)"
   ]
  },
  {
   "cell_type": "code",
   "execution_count": 11,
   "id": "0bb05724",
   "metadata": {},
   "outputs": [
    {
     "name": "stdout",
     "output_type": "stream",
     "text": [
      "() <class 'tuple'>\n"
     ]
    }
   ],
   "source": [
    "functie_cu_parametri_nelimitati()"
   ]
  },
  {
   "cell_type": "code",
   "execution_count": 15,
   "id": "5cd08f1a",
   "metadata": {},
   "outputs": [],
   "source": [
    "def functie_cu_parametri_denumiti_nelimitati(*args, **kargs):\n",
    "    print(\"args:\", args, type(args))\n",
    "    print(\"kargs:\", kargs, type(kargs))"
   ]
  },
  {
   "cell_type": "code",
   "execution_count": 16,
   "id": "7479ec11",
   "metadata": {},
   "outputs": [
    {
     "name": "stdout",
     "output_type": "stream",
     "text": [
      "args: () <class 'tuple'>\n",
      "kargs: {} <class 'dict'>\n"
     ]
    }
   ],
   "source": [
    "functie_cu_parametri_denumiti_nelimitati()"
   ]
  },
  {
   "cell_type": "code",
   "execution_count": 17,
   "id": "2a793081",
   "metadata": {},
   "outputs": [
    {
     "name": "stdout",
     "output_type": "stream",
     "text": [
      "args: (10, 20) <class 'tuple'>\n",
      "kargs: {} <class 'dict'>\n"
     ]
    }
   ],
   "source": [
    "functie_cu_parametri_denumiti_nelimitati(10, 20)"
   ]
  },
  {
   "cell_type": "code",
   "execution_count": 18,
   "id": "f1f7be1e",
   "metadata": {},
   "outputs": [
    {
     "name": "stdout",
     "output_type": "stream",
     "text": [
      "args: (10, 20) <class 'tuple'>\n",
      "kargs: {'temperatura': 'mare'} <class 'dict'>\n"
     ]
    }
   ],
   "source": [
    "functie_cu_parametri_denumiti_nelimitati(10, 20, temperatura=\"mare\")"
   ]
  },
  {
   "cell_type": "code",
   "execution_count": 20,
   "id": "c3534dc6",
   "metadata": {},
   "outputs": [
    {
     "name": "stdout",
     "output_type": "stream",
     "text": [
      "10^^^20^^^30^^^30^^^30\n"
     ]
    }
   ],
   "source": [
    "print(10, 20, 30, 30, 30, sep=\"^^^\")"
   ]
  },
  {
   "cell_type": "code",
   "execution_count": 21,
   "id": "6358367f",
   "metadata": {},
   "outputs": [
    {
     "name": "stdout",
     "output_type": "stream",
     "text": [
      "10 20 30 30 30\n"
     ]
    }
   ],
   "source": [
    "print(10, 20, 30, 30, 30)"
   ]
  },
  {
   "cell_type": "code",
   "execution_count": 22,
   "id": "9374f597",
   "metadata": {},
   "outputs": [
    {
     "name": "stdout",
     "output_type": "stream",
     "text": [
      "1020303030\n"
     ]
    }
   ],
   "source": [
    "print(10, 20, 30, 30, 30, sep=\"\")"
   ]
  },
  {
   "cell_type": "code",
   "execution_count": 23,
   "id": "2de017a4",
   "metadata": {},
   "outputs": [
    {
     "name": "stdout",
     "output_type": "stream",
     "text": [
      "10 20 30 30 30\n"
     ]
    }
   ],
   "source": [
    "print(10, 20, 30, 30, 30, sep=\" \")"
   ]
  },
  {
   "cell_type": "code",
   "execution_count": 24,
   "id": "806259a0",
   "metadata": {},
   "outputs": [
    {
     "name": "stdout",
     "output_type": "stream",
     "text": [
      "10 20 30 30 30SFARSIT"
     ]
    }
   ],
   "source": [
    "print(10, 20, 30, 30, 30, sep=\" \", end=\"SFARSIT\")"
   ]
  },
  {
   "cell_type": "code",
   "execution_count": 25,
   "id": "455cfa13",
   "metadata": {},
   "outputs": [],
   "source": [
    "def scadere(x, y):\n",
    "    return x - y\n"
   ]
  },
  {
   "cell_type": "code",
   "execution_count": 26,
   "id": "d1749ee9",
   "metadata": {},
   "outputs": [
    {
     "data": {
      "text/plain": [
       "7"
      ]
     },
     "execution_count": 26,
     "metadata": {},
     "output_type": "execute_result"
    }
   ],
   "source": [
    "scadere(10, 3)"
   ]
  },
  {
   "cell_type": "code",
   "execution_count": 27,
   "id": "32a07793",
   "metadata": {},
   "outputs": [
    {
     "data": {
      "text/plain": [
       "-7"
      ]
     },
     "execution_count": 27,
     "metadata": {},
     "output_type": "execute_result"
    }
   ],
   "source": [
    "scadere(y=10, x=3)"
   ]
  },
  {
   "cell_type": "code",
   "execution_count": 29,
   "id": "638a8855",
   "metadata": {},
   "outputs": [
    {
     "ename": "SyntaxError",
     "evalue": "positional argument follows keyword argument (511788388.py, line 1)",
     "output_type": "error",
     "traceback": [
      "  \u001b[36mCell\u001b[39m\u001b[36m \u001b[39m\u001b[32mIn[29]\u001b[39m\u001b[32m, line 1\u001b[39m\n\u001b[31m    \u001b[39m\u001b[31mscadere(y=10, 3)\u001b[39m\n                   ^\n\u001b[31mSyntaxError\u001b[39m\u001b[31m:\u001b[39m positional argument follows keyword argument\n"
     ]
    }
   ],
   "source": [
    "scadere(y=10, 3)"
   ]
  },
  {
   "cell_type": "code",
   "execution_count": 30,
   "id": "e238b5a0",
   "metadata": {},
   "outputs": [
    {
     "data": {
      "text/plain": [
       "7"
      ]
     },
     "execution_count": 30,
     "metadata": {},
     "output_type": "execute_result"
    }
   ],
   "source": [
    "scadere(x=10, y=3)"
   ]
  },
  {
   "cell_type": "code",
   "execution_count": 31,
   "id": "eb056213",
   "metadata": {},
   "outputs": [
    {
     "data": {
      "text/plain": [
       "7"
      ]
     },
     "execution_count": 31,
     "metadata": {},
     "output_type": "execute_result"
    }
   ],
   "source": [
    "scadere(10, 3)"
   ]
  },
  {
   "cell_type": "code",
   "execution_count": 32,
   "id": "f59ba203",
   "metadata": {},
   "outputs": [],
   "source": [
    "def impartire(x:int, y:int):\n",
    "    return x / y "
   ]
  },
  {
   "cell_type": "code",
   "execution_count": 33,
   "id": "27d2914d",
   "metadata": {},
   "outputs": [
    {
     "data": {
      "text/plain": [
       "3.3333333333333335"
      ]
     },
     "execution_count": 33,
     "metadata": {},
     "output_type": "execute_result"
    }
   ],
   "source": [
    "impartire(10, 3)"
   ]
  },
  {
   "cell_type": "code",
   "execution_count": 34,
   "id": "44762b35",
   "metadata": {},
   "outputs": [
    {
     "data": {
      "text/plain": [
       "10.333"
      ]
     },
     "execution_count": 34,
     "metadata": {},
     "output_type": "execute_result"
    }
   ],
   "source": [
    "impartire(10.333, True)"
   ]
  },
  {
   "cell_type": "code",
   "execution_count": 35,
   "id": "6099a8f3",
   "metadata": {},
   "outputs": [],
   "source": [
    "def inmultire(x:int, y:int):\n",
    "    return x * y "
   ]
  },
  {
   "cell_type": "code",
   "execution_count": 36,
   "id": "a54de86a",
   "metadata": {},
   "outputs": [
    {
     "data": {
      "text/plain": [
       "30"
      ]
     },
     "execution_count": 36,
     "metadata": {},
     "output_type": "execute_result"
    }
   ],
   "source": [
    "inmultire(10, 3)"
   ]
  },
  {
   "cell_type": "code",
   "execution_count": 37,
   "id": "c3be4e2b",
   "metadata": {},
   "outputs": [
    {
     "data": {
      "text/plain": [
       "'apaapaapa'"
      ]
     },
     "execution_count": 37,
     "metadata": {},
     "output_type": "execute_result"
    }
   ],
   "source": [
    "inmultire(\"apa\", 3)"
   ]
  },
  {
   "cell_type": "code",
   "execution_count": 38,
   "id": "c628a161",
   "metadata": {},
   "outputs": [],
   "source": [
    "def putere(x, p):\n",
    "    return x ** p"
   ]
  },
  {
   "cell_type": "code",
   "execution_count": 40,
   "id": "edceb6e6",
   "metadata": {},
   "outputs": [
    {
     "data": {
      "text/plain": [
       "1000"
      ]
     },
     "execution_count": 40,
     "metadata": {},
     "output_type": "execute_result"
    }
   ],
   "source": [
    "putere(10, 3)"
   ]
  },
  {
   "cell_type": "code",
   "execution_count": 41,
   "id": "2375e48b",
   "metadata": {},
   "outputs": [],
   "source": [
    "def putere(x, p=2):\n",
    "    return x ** p"
   ]
  },
  {
   "cell_type": "code",
   "execution_count": 42,
   "id": "6cded26a",
   "metadata": {},
   "outputs": [
    {
     "data": {
      "text/plain": [
       "1000"
      ]
     },
     "execution_count": 42,
     "metadata": {},
     "output_type": "execute_result"
    }
   ],
   "source": [
    "putere(10, 3)"
   ]
  },
  {
   "cell_type": "markdown",
   "id": "7d0e8479",
   "metadata": {},
   "source": [
    "# Parametru implicit"
   ]
  },
  {
   "cell_type": "code",
   "execution_count": 43,
   "id": "c2ef952a",
   "metadata": {},
   "outputs": [
    {
     "data": {
      "text/plain": [
       "49"
      ]
     },
     "execution_count": 43,
     "metadata": {},
     "output_type": "execute_result"
    }
   ],
   "source": [
    "putere(7)"
   ]
  },
  {
   "cell_type": "code",
   "execution_count": null,
   "id": "3cfd8770",
   "metadata": {},
   "outputs": [],
   "source": []
  }
 ],
 "metadata": {
  "kernelspec": {
   "display_name": "Python 3",
   "language": "python",
   "name": "python3"
  },
  "language_info": {
   "codemirror_mode": {
    "name": "ipython",
    "version": 3
   },
   "file_extension": ".py",
   "mimetype": "text/x-python",
   "name": "python",
   "nbconvert_exporter": "python",
   "pygments_lexer": "ipython3",
   "version": "3.13.3"
  }
 },
 "nbformat": 4,
 "nbformat_minor": 5
}
