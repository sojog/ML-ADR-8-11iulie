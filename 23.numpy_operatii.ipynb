{
 "cells": [
  {
   "cell_type": "code",
   "execution_count": 1,
   "id": "5134fd11",
   "metadata": {},
   "outputs": [],
   "source": [
    "import numpy as np"
   ]
  },
  {
   "cell_type": "code",
   "execution_count": 2,
   "id": "8a04a113",
   "metadata": {},
   "outputs": [
    {
     "data": {
      "text/plain": [
       "['23', '41', '5', '31', '51', '51', '523', '623', '51', '32', '31']"
      ]
     },
     "execution_count": 2,
     "metadata": {},
     "output_type": "execute_result"
    }
   ],
   "source": [
    "text = \"23,41,5,31,51,51,523,623,51,32,31\"\n",
    "numere = text.split(\",\")\n",
    "numere"
   ]
  },
  {
   "cell_type": "code",
   "execution_count": 3,
   "id": "0e701771",
   "metadata": {},
   "outputs": [
    {
     "data": {
      "text/plain": [
       "array([ 23.,  41.,   5.,  31.,  51.,  51., 523., 623.,  51.,  32.,  31.])"
      ]
     },
     "execution_count": 3,
     "metadata": {},
     "output_type": "execute_result"
    }
   ],
   "source": [
    "text = \"23,41,5,31,51,51,523,623,51,32,31\"\n",
    "array = np.fromstring(text, sep=\",\")\n",
    "array"
   ]
  },
  {
   "cell_type": "code",
   "execution_count": 4,
   "id": "6e153d0a",
   "metadata": {},
   "outputs": [
    {
     "data": {
      "text/plain": [
       "(np.float64(23.0), numpy.float64)"
      ]
     },
     "execution_count": 4,
     "metadata": {},
     "output_type": "execute_result"
    }
   ],
   "source": [
    "array[0], type(array[0])"
   ]
  },
  {
   "cell_type": "code",
   "execution_count": 6,
   "id": "e41eb207",
   "metadata": {},
   "outputs": [
    {
     "name": "stderr",
     "output_type": "stream",
     "text": [
      "/var/folders/93/qw471b_96px9kvlzs8__bk480000gn/T/ipykernel_12588/2310205687.py:2: DeprecationWarning: string or file could not be read to its end due to unmatched data; this will raise a ValueError in the future.\n",
      "  array = np.fromstring(text, sep=\",\")\n"
     ]
    },
    {
     "data": {
      "text/plain": [
       "array([23.])"
      ]
     },
     "execution_count": 6,
     "metadata": {},
     "output_type": "execute_result"
    }
   ],
   "source": [
    "text = \"23,branza,5,31,51,51,523,623,51,32,31\"\n",
    "array = np.fromstring(text, sep=\",\")\n",
    "array"
   ]
  },
  {
   "cell_type": "code",
   "execution_count": 10,
   "id": "21e715be",
   "metadata": {},
   "outputs": [
    {
     "data": {
      "text/plain": [
       "array([ 23,  41,   5,  31,  51,  51,  11, 111,  51,  32,  31], dtype=int8)"
      ]
     },
     "execution_count": 10,
     "metadata": {},
     "output_type": "execute_result"
    }
   ],
   "source": [
    "text = \"23,41,5,31,51,51,523,623,51,32,31\"\n",
    "array = np.fromstring(text, sep=\",\", dtype=np.int8)\n",
    "array"
   ]
  },
  {
   "cell_type": "code",
   "execution_count": 12,
   "id": "f0350865",
   "metadata": {},
   "outputs": [
    {
     "data": {
      "text/plain": [
       "(array(['23', '31', '32', '41', '5', '51', '523', '623'], dtype='<U3'),\n",
       " array([1, 2, 1, 1, 1, 3, 1, 1]))"
      ]
     },
     "execution_count": 12,
     "metadata": {},
     "output_type": "execute_result"
    }
   ],
   "source": [
    "np.unique(numere, return_counts=True)"
   ]
  },
  {
   "cell_type": "code",
   "execution_count": 13,
   "id": "cac20927",
   "metadata": {},
   "outputs": [],
   "source": [
    "valori, frecvente = np.unique(numere, return_counts=True)\n"
   ]
  },
  {
   "cell_type": "code",
   "execution_count": 14,
   "id": "970a7b01",
   "metadata": {},
   "outputs": [
    {
     "data": {
      "text/plain": [
       "array(['23', '32', '41', '5', '523', '623'], dtype='<U3')"
      ]
     },
     "execution_count": 14,
     "metadata": {},
     "output_type": "execute_result"
    }
   ],
   "source": [
    "valori[frecvente == 1]"
   ]
  },
  {
   "cell_type": "code",
   "execution_count": 16,
   "id": "2f09c8f3",
   "metadata": {},
   "outputs": [
    {
     "data": {
      "text/plain": [
       "array([ 11,  32,  41, 111], dtype=int8)"
      ]
     },
     "execution_count": 16,
     "metadata": {},
     "output_type": "execute_result"
    }
   ],
   "source": [
    "text = \"23,41,5,5,23,31,51,51,523,623,51,32,31\"\n",
    "numere = np.fromstring(text, sep=\",\", dtype=np.int8)\n",
    "valori, frecvente = np.unique(numere, return_counts=True)\n",
    "valori[frecvente == 1]\n"
   ]
  }
 ],
 "metadata": {
  "kernelspec": {
   "display_name": "Python 3",
   "language": "python",
   "name": "python3"
  },
  "language_info": {
   "codemirror_mode": {
    "name": "ipython",
    "version": 3
   },
   "file_extension": ".py",
   "mimetype": "text/x-python",
   "name": "python",
   "nbconvert_exporter": "python",
   "pygments_lexer": "ipython3",
   "version": "3.13.3"
  }
 },
 "nbformat": 4,
 "nbformat_minor": 5
}
