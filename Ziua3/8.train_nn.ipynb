{
 "cells": [
  {
   "cell_type": "code",
   "execution_count": 2,
   "id": "03239886",
   "metadata": {},
   "outputs": [],
   "source": [
    "import numpy as np"
   ]
  },
  {
   "cell_type": "code",
   "execution_count": 3,
   "id": "0c755945",
   "metadata": {},
   "outputs": [],
   "source": [
    "input_data = np.array([(-1, -108), (11, -96), (8, -99), (-6, -113)])\n",
    "real_output_data = np.array([1, 0, 0, 1])"
   ]
  },
  {
   "cell_type": "code",
   "execution_count": 6,
   "id": "065a9916",
   "metadata": {},
   "outputs": [
    {
     "data": {
      "text/plain": [
       "[(array([  -1, -108]), np.int64(1)),\n",
       " (array([ 11, -96]), np.int64(0)),\n",
       " (array([  8, -99]), np.int64(0)),\n",
       " (array([  -6, -113]), np.int64(1))]"
      ]
     },
     "execution_count": 6,
     "metadata": {},
     "output_type": "execute_result"
    }
   ],
   "source": [
    "list(zip(input_data, real_output_data))"
   ]
  },
  {
   "cell_type": "code",
   "execution_count": null,
   "id": "81ffc230",
   "metadata": {},
   "outputs": [],
   "source": [
    "def mse_loss(y_real, y_prezis):\n",
    "    return ((np.array(y_real) - np.array(y_prezis)) ** 2).mean()\n",
    "\n",
    "def sigmoid(x):\n",
    "    return 1/ ( 1 + np.exp(-x))\n",
    "\n",
    "def deriv_sigmoid(x):\n",
    "    fx = sigmoid(x)\n",
    "    return fx * (1 - fx)\n",
    "\n",
    "class Neuron:\n",
    "    def __init__(self, weights, bias):\n",
    "        self.weights = weights\n",
    "        self.bias = bias\n",
    "\n",
    "    def __str__(self):\n",
    "        return f\"Neuronul cu greutatile {self.weights} si bias {self.bias}\"\n",
    "        \n",
    "    def feedforward(self, inputs):\n",
    "        total = np.dot(self.weights, inputs) + self.bias\n",
    "        return sigmoid(total)\n",
    "    \n",
    "\n",
    "class NeuralNetwork:\n",
    "\n",
    "    def __init__(self):\n",
    "        self.w1 = np.random.normal()\n",
    "        self.w2 = np.random.normal()\n",
    "        self.w3 = np.random.normal()\n",
    "        self.w4 = np.random.normal()\n",
    "        self.w5 = np.random.normal()\n",
    "        self.w6 = np.random.normal()\n",
    "\n",
    "        self.b1 = np.random.normal() \n",
    "        self.b2 = np.random.normal() \n",
    "        self.b3 = np.random.normal() \n",
    "\n",
    "        self.hidden1 = Neuron([self.w1, self.w2], self.b1)\n",
    "        self.hidden2 = Neuron([self.w3, self.w4], self.b2)\n",
    "        self.output = Neuron([self.w5, self.w6], self.b3)\n",
    "\n",
    "    ## Folosirea modelului (DEJA ANTRENARE)\n",
    "    def feedforward(self, input):\n",
    "        ouput_hidden1 = self.hidden1.feedforward(input)\n",
    "        ouput_hidden2 = self.hidden2.feedforward(input)\n",
    "\n",
    "        result_output_layer = self.output.feedforward([ouput_hidden1, ouput_hidden2])\n",
    "\n",
    "        return result_output_layer\n",
    "    \n",
    "\n",
    "    def train(self, data, true_output):\n",
    "        learning_rate = 0.1 # 0.01 0.001\n",
    "        EPOCH = 1000\n",
    "        for i in range(EPOCH):\n",
    "            for x, y_true  in zip(input_data, real_output_data):\n",
    "                sum_hidden1 = self.w1 * x[0] + self.w2 * x[1] + self.b1\n",
    "                h1 = sigmoid(sum_hidden1)\n",
    "\n",
    "                sum_hidden2 = self.w3 * x[0] + self.w4 * x[1] + self.b2\n",
    "                h2 = sigmoid(sum_hidden2)\n",
    "\n",
    "                sum_output2 = self.w5 * h1 + self.w6 * h2 + self.b3\n",
    "                o1 = sigmoid(sum_output2)\n",
    "\n",
    "                y_prezis = o1\n",
    "\n",
    "                # ((y_true - y_prezis) ** 2) / 2\n",
    "\n",
    "                derivata_y_prezis = -2 * (y_true - y_prezis)\n",
    "\n",
    "                derivata_w5_y_prezis = h1 * deriv_sigmoid(sum_hidden1)\n",
    "                derivata_w6_y_prezis = h2 * deriv_sigmoid(sum_hidden1)\n",
    "                derivata_b3_y_prezis = deriv_sigmoid(sum_hidden1)\n",
    "\n",
    "                derivata_h1_y_prezis = self.w5 * deriv_sigmoid(sum_hidden1)\n",
    "                derivata_h2_y_prezis = self.w6 * deriv_sigmoid(sum_hidden1)\n",
    "\n",
    "\n",
    "                self.w1 = self.w1 - learning_rate * derivata_y_prezis * derivata_h1_y_prezis\n",
    "                self.w2 = self.w2 - learning_rate * derivata_y_prezis * derivata_h2_y_prezis\n",
    "                self.b1 = self.b1 - learning_rate * derivata_y_prezis * derivata_h2_y_prezis\n",
    "\n"
   ]
  },
  {
   "cell_type": "code",
   "execution_count": 9,
   "id": "d116dcf8",
   "metadata": {},
   "outputs": [
    {
     "data": {
      "text/plain": [
       "np.float64(0.7671704616092968)"
      ]
     },
     "execution_count": 9,
     "metadata": {},
     "output_type": "execute_result"
    }
   ],
   "source": [
    "my_network = NeuralNetwork()\n",
    "my_network.feedforward(input_data[2])\n"
   ]
  },
  {
   "cell_type": "code",
   "execution_count": 10,
   "id": "0321f45d",
   "metadata": {},
   "outputs": [],
   "source": [
    "my_network.train(input_data, real_output_data)"
   ]
  },
  {
   "cell_type": "code",
   "execution_count": 11,
   "id": "bcb4c0fb",
   "metadata": {},
   "outputs": [],
   "source": [
    "date = {\n",
    "    \"Florin\" : [92, 183, False],\n",
    "    \"Emilia\" : [62, 163, True],\n",
    "    \"George\" : [77, 178, False],\n",
    "    \"Iulia\" : [58, 156, True]\n",
    "}\n"
   ]
  },
  {
   "cell_type": "code",
   "execution_count": 13,
   "id": "68584d2b",
   "metadata": {},
   "outputs": [
    {
     "data": {
      "text/plain": [
       "array([ 62, 163])"
      ]
     },
     "execution_count": 13,
     "metadata": {},
     "output_type": "execute_result"
    }
   ],
   "source": [
    "emilia = np.array(date[\"Emilia\"][:2])\n",
    "emilia"
   ]
  },
  {
   "cell_type": "code",
   "execution_count": 14,
   "id": "a37767f3",
   "metadata": {},
   "outputs": [
    {
     "data": {
      "text/plain": [
       "np.float64(0.872316776240199)"
      ]
     },
     "execution_count": 14,
     "metadata": {},
     "output_type": "execute_result"
    }
   ],
   "source": [
    "my_network.feedforward(emilia)"
   ]
  },
  {
   "cell_type": "code",
   "execution_count": null,
   "id": "2e3cc243",
   "metadata": {},
   "outputs": [],
   "source": []
  }
 ],
 "metadata": {
  "kernelspec": {
   "display_name": "Python 3",
   "language": "python",
   "name": "python3"
  },
  "language_info": {
   "codemirror_mode": {
    "name": "ipython",
    "version": 3
   },
   "file_extension": ".py",
   "mimetype": "text/x-python",
   "name": "python",
   "nbconvert_exporter": "python",
   "pygments_lexer": "ipython3",
   "version": "3.13.3"
  }
 },
 "nbformat": 4,
 "nbformat_minor": 5
}
