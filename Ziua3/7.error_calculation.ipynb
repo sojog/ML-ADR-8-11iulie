{
 "cells": [
  {
   "cell_type": "code",
   "execution_count": 1,
   "id": "b04f1c4c",
   "metadata": {},
   "outputs": [],
   "source": [
    "import numpy as np"
   ]
  },
  {
   "cell_type": "code",
   "execution_count": 8,
   "id": "8f911f9e",
   "metadata": {},
   "outputs": [],
   "source": [
    "\n",
    "\n",
    "inputuri_reale = np.array([1, 0, 0, 1])\n",
    "inputuri_prezise = np.array([0, 0, 0, 0])\n"
   ]
  },
  {
   "cell_type": "code",
   "execution_count": 9,
   "id": "ba364701",
   "metadata": {},
   "outputs": [
    {
     "data": {
      "text/plain": [
       "array([1, 0, 0, 1])"
      ]
     },
     "execution_count": 9,
     "metadata": {},
     "output_type": "execute_result"
    }
   ],
   "source": [
    "inputuri_reale - inputuri_prezise"
   ]
  },
  {
   "cell_type": "code",
   "execution_count": 10,
   "id": "550b9404",
   "metadata": {},
   "outputs": [
    {
     "data": {
      "text/plain": [
       "array([1, 0, 0, 1])"
      ]
     },
     "execution_count": 10,
     "metadata": {},
     "output_type": "execute_result"
    }
   ],
   "source": [
    "(inputuri_reale - inputuri_prezise) ** 2"
   ]
  },
  {
   "cell_type": "code",
   "execution_count": 11,
   "id": "75c6a9cf",
   "metadata": {},
   "outputs": [
    {
     "data": {
      "text/plain": [
       "np.int64(2)"
      ]
     },
     "execution_count": 11,
     "metadata": {},
     "output_type": "execute_result"
    }
   ],
   "source": [
    "np.sum((inputuri_reale - inputuri_prezise) ** 2)"
   ]
  },
  {
   "cell_type": "code",
   "execution_count": 12,
   "id": "f8271685",
   "metadata": {},
   "outputs": [
    {
     "data": {
      "text/plain": [
       "np.float64(0.5)"
      ]
     },
     "execution_count": 12,
     "metadata": {},
     "output_type": "execute_result"
    }
   ],
   "source": [
    "np.sum((inputuri_reale - inputuri_prezise) ** 2) / 4"
   ]
  },
  {
   "cell_type": "code",
   "execution_count": 13,
   "id": "e8ed8006",
   "metadata": {},
   "outputs": [
    {
     "data": {
      "text/plain": [
       "np.float64(0.5)"
      ]
     },
     "execution_count": 13,
     "metadata": {},
     "output_type": "execute_result"
    }
   ],
   "source": [
    "((inputuri_reale - inputuri_prezise) ** 2).mean()"
   ]
  },
  {
   "cell_type": "code",
   "execution_count": 14,
   "id": "6f55f106",
   "metadata": {},
   "outputs": [],
   "source": [
    "def mse_loss(y_real, y_prezis):\n",
    "    return ((inputuri_reale - inputuri_prezise) ** 2).mean()"
   ]
  },
  {
   "cell_type": "code",
   "execution_count": 15,
   "id": "c4ff9db2",
   "metadata": {},
   "outputs": [
    {
     "data": {
      "text/plain": [
       "np.float64(0.5)"
      ]
     },
     "execution_count": 15,
     "metadata": {},
     "output_type": "execute_result"
    }
   ],
   "source": [
    "mse_loss(inputuri_reale, inputuri_prezise)"
   ]
  },
  {
   "cell_type": "code",
   "execution_count": null,
   "id": "b92ad313",
   "metadata": {},
   "outputs": [],
   "source": []
  }
 ],
 "metadata": {
  "kernelspec": {
   "display_name": "Python 3",
   "language": "python",
   "name": "python3"
  },
  "language_info": {
   "codemirror_mode": {
    "name": "ipython",
    "version": 3
   },
   "file_extension": ".py",
   "mimetype": "text/x-python",
   "name": "python",
   "nbconvert_exporter": "python",
   "pygments_lexer": "ipython3",
   "version": "3.13.3"
  }
 },
 "nbformat": 4,
 "nbformat_minor": 5
}
