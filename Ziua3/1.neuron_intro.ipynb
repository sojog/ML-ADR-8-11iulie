{
 "cells": [
  {
   "cell_type": "markdown",
   "id": "22726af8",
   "metadata": {},
   "source": [
    "f(x) = a * x + b"
   ]
  },
  {
   "cell_type": "markdown",
   "id": "1922bd51",
   "metadata": {},
   "source": [
    "f(x1, x2) = a1 * x1 + a2 * x2 + b"
   ]
  },
  {
   "cell_type": "markdown",
   "id": "a93e0cb7",
   "metadata": {},
   "source": [
    "f(x1, x2) = w1 * x1 + w2 * x2 + b"
   ]
  },
  {
   "cell_type": "markdown",
   "id": "1918b500",
   "metadata": {},
   "source": [
    "INPUTS : x1, x2"
   ]
  },
  {
   "cell_type": "markdown",
   "id": "f7be0e43",
   "metadata": {},
   "source": [
    "WEIGHTS: w1, w2"
   ]
  },
  {
   "cell_type": "markdown",
   "id": "8f870536",
   "metadata": {},
   "source": [
    "BIAS: b"
   ]
  },
  {
   "cell_type": "markdown",
   "id": "cffbe058",
   "metadata": {},
   "source": [
    "# NEURONUL trebuie sa contina w1, w2 (weights) si bias"
   ]
  },
  {
   "cell_type": "code",
   "execution_count": 1,
   "id": "1db80738",
   "metadata": {},
   "outputs": [],
   "source": [
    "weights = [0, 1]\n",
    "bias = 4"
   ]
  },
  {
   "cell_type": "markdown",
   "id": "3a023428",
   "metadata": {},
   "source": [
    "# NEURONUL trebuie sa primeasca inputurile x1, x2"
   ]
  },
  {
   "cell_type": "markdown",
   "id": "5cf44d86",
   "metadata": {},
   "source": [
    "x = [2, 3]"
   ]
  },
  {
   "cell_type": "code",
   "execution_count": 2,
   "id": "a8e971fa",
   "metadata": {},
   "outputs": [],
   "source": [
    "x = [2, 3]"
   ]
  },
  {
   "cell_type": "code",
   "execution_count": 4,
   "id": "79cbf7b2",
   "metadata": {},
   "outputs": [
    {
     "data": {
      "text/plain": [
       "7"
      ]
     },
     "execution_count": 4,
     "metadata": {},
     "output_type": "execute_result"
    }
   ],
   "source": [
    "total = weights[0] * x[0] + weights[1] * x[1] + bias\n",
    "total"
   ]
  },
  {
   "cell_type": "code",
   "execution_count": 5,
   "id": "164f03e5",
   "metadata": {},
   "outputs": [],
   "source": [
    "import numpy as np"
   ]
  },
  {
   "cell_type": "code",
   "execution_count": null,
   "id": "42519dab",
   "metadata": {},
   "outputs": [],
   "source": [
    "def sigmoid(x):\n",
    "    return 1 / (1 + np.exp(-x))"
   ]
  },
  {
   "cell_type": "code",
   "execution_count": 7,
   "id": "be9eafd4",
   "metadata": {},
   "outputs": [
    {
     "data": {
      "text/plain": [
       "np.float64(0.9990889488055994)"
      ]
     },
     "execution_count": 7,
     "metadata": {},
     "output_type": "execute_result"
    }
   ],
   "source": [
    "sigmoid(total)"
   ]
  },
  {
   "cell_type": "code",
   "execution_count": 8,
   "id": "85cc6dc8",
   "metadata": {},
   "outputs": [
    {
     "data": {
      "text/plain": [
       "np.float64(1.0)"
      ]
     },
     "execution_count": 8,
     "metadata": {},
     "output_type": "execute_result"
    }
   ],
   "source": [
    "sigmoid(10000000)"
   ]
  },
  {
   "cell_type": "code",
   "execution_count": 9,
   "id": "526d9eac",
   "metadata": {},
   "outputs": [
    {
     "name": "stderr",
     "output_type": "stream",
     "text": [
      "/var/folders/93/qw471b_96px9kvlzs8__bk480000gn/T/ipykernel_1893/2434603531.py:3: RuntimeWarning: overflow encountered in exp\n",
      "  return 1 / (1 + np.exp(-x))\n"
     ]
    },
    {
     "data": {
      "text/plain": [
       "np.float64(0.0)"
      ]
     },
     "execution_count": 9,
     "metadata": {},
     "output_type": "execute_result"
    }
   ],
   "source": [
    "sigmoid(-10000000)"
   ]
  },
  {
   "cell_type": "code",
   "execution_count": 10,
   "id": "bd51ed1b",
   "metadata": {},
   "outputs": [
    {
     "data": {
      "text/plain": [
       "np.float64(0.5)"
      ]
     },
     "execution_count": 10,
     "metadata": {},
     "output_type": "execute_result"
    }
   ],
   "source": [
    "sigmoid(0)"
   ]
  },
  {
   "cell_type": "code",
   "execution_count": null,
   "id": "acd15fea",
   "metadata": {},
   "outputs": [],
   "source": []
  }
 ],
 "metadata": {
  "kernelspec": {
   "display_name": "Python 3",
   "language": "python",
   "name": "python3"
  },
  "language_info": {
   "codemirror_mode": {
    "name": "ipython",
    "version": 3
   },
   "file_extension": ".py",
   "mimetype": "text/x-python",
   "name": "python",
   "nbconvert_exporter": "python",
   "pygments_lexer": "ipython3",
   "version": "3.13.3"
  }
 },
 "nbformat": 4,
 "nbformat_minor": 5
}
