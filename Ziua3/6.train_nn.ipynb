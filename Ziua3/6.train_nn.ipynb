{
 "cells": [
  {
   "cell_type": "code",
   "execution_count": 2,
   "id": "03239886",
   "metadata": {},
   "outputs": [],
   "source": [
    "import numpy as np"
   ]
  },
  {
   "cell_type": "code",
   "execution_count": 3,
   "id": "0c755945",
   "metadata": {},
   "outputs": [],
   "source": [
    "input_data = np.array([(-1, -108), (11, -96), (8, -99), (-6, -113)])\n",
    "real_output_data = np.array([1, 0, 0, 1])"
   ]
  },
  {
   "cell_type": "code",
   "execution_count": null,
   "id": "81ffc230",
   "metadata": {},
   "outputs": [],
   "source": [
    "def sigmoid(x):\n",
    "    return 1/ ( 1 + np.exp(-x))\n",
    "\n",
    "class Neuron:\n",
    "    def __init__(self, weights, bias):\n",
    "        self.weights = weights\n",
    "        self.bias = bias\n",
    "\n",
    "    def __str__(self):\n",
    "        return f\"Neuronul cu greutatile {self.weights} si bias {self.bias}\"\n",
    "        \n",
    "    def feedforward(self, inputs):\n",
    "        total = np.dot(self.weights, inputs) + self.bias\n",
    "        return sigmoid(total)\n",
    "    \n",
    "\n",
    "class NeuralNetwork:\n",
    "\n",
    "    def __init__(self):\n",
    "        weights = [0, 1]\n",
    "        bias = 0\n",
    "\n",
    "        self.hidden1 = Neuron(weights, bias)\n",
    "        self.hidden2 = Neuron(weights, bias)\n",
    "        self.output = Neuron(weights, bias)\n",
    "\n",
    "    def feedforward(self, input):\n",
    "        ouput_hidden1 = self.hidden1.feedforward(input)\n",
    "        ouput_hidden2 = self.hidden2.feedforward(input)\n",
    "\n",
    "        result_output_layer = self.output.feedforward([ouput_hidden1, ouput_hidden2])\n",
    "\n",
    "        return result_output_layer"
   ]
  },
  {
   "cell_type": "code",
   "execution_count": 9,
   "id": "d116dcf8",
   "metadata": {},
   "outputs": [
    {
     "data": {
      "text/plain": [
       "np.float64(0.5)"
      ]
     },
     "execution_count": 9,
     "metadata": {},
     "output_type": "execute_result"
    }
   ],
   "source": [
    "my_network = NeuralNetwork()\n",
    "my_network.feedforward(input_data[2])\n"
   ]
  },
  {
   "cell_type": "code",
   "execution_count": null,
   "id": "0321f45d",
   "metadata": {},
   "outputs": [],
   "source": []
  }
 ],
 "metadata": {
  "kernelspec": {
   "display_name": "Python 3",
   "language": "python",
   "name": "python3"
  },
  "language_info": {
   "codemirror_mode": {
    "name": "ipython",
    "version": 3
   },
   "file_extension": ".py",
   "mimetype": "text/x-python",
   "name": "python",
   "nbconvert_exporter": "python",
   "pygments_lexer": "ipython3",
   "version": "3.13.3"
  }
 },
 "nbformat": 4,
 "nbformat_minor": 5
}
