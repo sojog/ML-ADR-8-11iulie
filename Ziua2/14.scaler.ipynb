{
 "cells": [
  {
   "cell_type": "code",
   "execution_count": 2,
   "id": "757e8bcc",
   "metadata": {},
   "outputs": [
    {
     "data": {
      "text/plain": [
       "[(1990, 2, 50), (1980, 3, 60), (2000, 1, 80)]"
      ]
     },
     "execution_count": 2,
     "metadata": {},
     "output_type": "execute_result"
    }
   ],
   "source": [
    "\n",
    "ani = [1990, 1980, 2000]\n",
    "etaj = [2, 3, 1]\n",
    "mp = [50, 60, 80]\n",
    "pret = [70_000, 80_000, 120_000]\n",
    "\n",
    "\n",
    "list(zip(ani, etaj, mp))\n",
    "\n",
    "\n"
   ]
  },
  {
   "cell_type": "code",
   "execution_count": 3,
   "id": "7beb6adb",
   "metadata": {},
   "outputs": [
    {
     "data": {
      "text/plain": [
       "[(0, 2, 50), (-10, 3, 60), (10, 1, 80)]"
      ]
     },
     "execution_count": 3,
     "metadata": {},
     "output_type": "execute_result"
    }
   ],
   "source": [
    "[(0, 2, 50), (-10, 3, 60), (10, 1, 80)]"
   ]
  },
  {
   "cell_type": "code",
   "execution_count": 6,
   "id": "8f7660e3",
   "metadata": {},
   "outputs": [],
   "source": [
    "from sklearn.preprocessing import StandardScaler\n",
    "import numpy as np"
   ]
  },
  {
   "cell_type": "code",
   "execution_count": 5,
   "id": "23ef73b2",
   "metadata": {},
   "outputs": [],
   "source": [
    "scaler = StandardScaler()"
   ]
  },
  {
   "cell_type": "code",
   "execution_count": 8,
   "id": "aed79146",
   "metadata": {},
   "outputs": [
    {
     "data": {
      "text/plain": [
       "array([[1990,    2,   50],\n",
       "       [1980,    3,   60],\n",
       "       [2000,    1,   80]])"
      ]
     },
     "execution_count": 8,
     "metadata": {},
     "output_type": "execute_result"
    }
   ],
   "source": [
    "\n",
    "ani = [1990, 1980, 2000]\n",
    "etaj = [2, 3, 1]\n",
    "mp = [50, 60, 80]\n",
    "pret = [70_000, 80_000, 120_000]\n",
    "\n",
    "\n",
    "date_de_scalat = np.array(list(zip(ani, etaj, mp)))\n",
    "date_de_scalat"
   ]
  },
  {
   "cell_type": "code",
   "execution_count": 10,
   "id": "ab36b647",
   "metadata": {},
   "outputs": [
    {
     "data": {
      "text/plain": [
       "array([[ 0.        ,  0.        , -1.06904497],\n",
       "       [-1.22474487,  1.22474487, -0.26726124],\n",
       "       [ 1.22474487, -1.22474487,  1.33630621]])"
      ]
     },
     "execution_count": 10,
     "metadata": {},
     "output_type": "execute_result"
    }
   ],
   "source": [
    "scaler.fit_transform(date_de_scalat)"
   ]
  },
  {
   "cell_type": "code",
   "execution_count": 12,
   "id": "237a706a",
   "metadata": {},
   "outputs": [
    {
     "data": {
      "text/plain": [
       "array([[-0.68289791],\n",
       "       [-0.73104246],\n",
       "       [ 1.41394037]])"
      ]
     },
     "execution_count": 12,
     "metadata": {},
     "output_type": "execute_result"
    }
   ],
   "source": [
    "scaler.fit_transform(np.array([2023, 3, 90000]).reshape(-1, 1))"
   ]
  },
  {
   "cell_type": "code",
   "execution_count": null,
   "id": "0df39677",
   "metadata": {},
   "outputs": [],
   "source": [
    "[2023, 3, 90000]"
   ]
  }
 ],
 "metadata": {
  "kernelspec": {
   "display_name": "Python 3",
   "language": "python",
   "name": "python3"
  },
  "language_info": {
   "codemirror_mode": {
    "name": "ipython",
    "version": 3
   },
   "file_extension": ".py",
   "mimetype": "text/x-python",
   "name": "python",
   "nbconvert_exporter": "python",
   "pygments_lexer": "ipython3",
   "version": "3.13.3"
  }
 },
 "nbformat": 4,
 "nbformat_minor": 5
}
